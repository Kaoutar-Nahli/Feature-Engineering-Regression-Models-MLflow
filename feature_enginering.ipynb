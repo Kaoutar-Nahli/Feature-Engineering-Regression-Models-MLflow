{
 "cells": [
  {
   "cell_type": "code",
   "execution_count": 886,
   "source": [
    "#%%\r\n",
    "import pandas as pd\r\n",
    "import numpy as np\r\n",
    "import matplotlib.pyplot as plt\r\n",
    "import re"
   ],
   "outputs": [],
   "metadata": {}
  },
  {
   "cell_type": "code",
   "execution_count": 887,
   "source": [
    "\r\n",
    "df = pd.read_csv('amazon_data_cleaned_01.csv')\r\n",
    "df.columns\r\n",
    "df = df.replace('nan', np.nan, regex=True)\r\n",
    "df = df.replace(0, np.nan, regex=True)\r\n",
    "df.drop('Unnamed: 0', axis=1,inplace=True)"
   ],
   "outputs": [],
   "metadata": {}
  },
  {
   "cell_type": "code",
   "execution_count": 888,
   "source": [
    "#Cleaning number of reviews\r\n",
    "pd.set_option('display.max_colwidth', 30)\r\n",
    "df['number_reviews'] = df['number_reviews'].str.replace('ratings','')\r\n",
    "df['number_reviews'] = df['number_reviews'].str.replace('Nan','0')\r\n",
    "df['number_reviews'] = df['number_reviews'].str.replace(',','')\r\n",
    "df['number_reviews'] = df['number_reviews'].str.replace('rating','').astype('int')"
   ],
   "outputs": [],
   "metadata": {}
  },
  {
   "cell_type": "code",
   "execution_count": 889,
   "source": [
    "#cleaning rating out of 5\r\n",
    "df['rating'] = df['rating'].str.replace('out of 5','').astype('float')"
   ],
   "outputs": [],
   "metadata": {}
  },
  {
   "cell_type": "code",
   "execution_count": 890,
   "source": [
    "#cleaning weight and its dimentions ['pounds', nan, 'ounces', 'grams', 'kilograms']\r\n",
    "#divide weight into float and dimention\r\n",
    "df['weight_float'] = df['weight'].apply(lambda x:  x if type(x)==float else x.split()[0]).astype(float)\r\n",
    "df['weight_dimention'] = df['weight'].apply(lambda x:  x if type(x)==float else x.split()[1]).str.lower()"
   ],
   "outputs": [],
   "metadata": {}
  },
  {
   "cell_type": "code",
   "execution_count": 891,
   "source": [
    "class dimention_convertion_weight():\r\n",
    "    '''\r\n",
    "     pounds' 'ounces', 'grams' to 'kilograms'\r\n",
    "    '''\r\n",
    "    def __init__(self,value_float, dimention) :\r\n",
    "        self.value = value_float\r\n",
    "        self.dimention = dimention\r\n",
    "        \r\n",
    "    def convert (self):\r\n",
    "        if self.dimention ==  'pounds':\r\n",
    "            self.from_pound_to_kg() \r\n",
    "            return self.value\r\n",
    "        elif self.dimention ==  'ounces':\r\n",
    "            self.from_ounces_kg()\r\n",
    "            return self.value\r\n",
    "        elif self.dimention == 'grams':\r\n",
    "            self.from_grams_to_kg()\r\n",
    "            return self.value\r\n",
    "        elif self.dimention == 'kilograms':\r\n",
    "            return self.value\r\n",
    "\r\n",
    "    def from_pound_to_kg( self):\r\n",
    "       \r\n",
    "           self.value =  self.value / 2.20462\r\n",
    "       \r\n",
    "    def from_ounces_kg(self):\r\n",
    "       \r\n",
    "            self.value =  self.value / 35.247\r\n",
    "        \r\n",
    "    def from_grams_to_kg(self):\r\n",
    "        \r\n",
    "           self.value =  self.value / 1000"
   ],
   "outputs": [],
   "metadata": {}
  },
  {
   "cell_type": "markdown",
   "source": [
    "Apply convertion_dimention_weight class, 24 mats have less than 0.3kg"
   ],
   "metadata": {}
  },
  {
   "cell_type": "code",
   "execution_count": 892,
   "source": [
    "df['weight_kg'] = df.apply(lambda row: dimention_convertion_weight(row.weight_float ,row.weight_dimention).convert(), axis=1)\r\n",
    "\r\n",
    "weight_less_than =df['weight_kg'] [df['weight_kg'] < 0.5]\r\n",
    "b = weight_less_than > 0\r\n",
    "print(b.sum())\r\n",
    "weight_less_than.unique()\r\n"
   ],
   "outputs": [
    {
     "output_type": "stream",
     "name": "stdout",
     "text": [
      "41\n"
     ]
    },
    {
     "output_type": "execute_result",
     "data": {
      "text/plain": [
       "array([0.45359291, 0.11339823, 0.26      , 0.002     , 0.08164672,\n",
       "       0.34045451, 0.15875752, 0.0905    , 0.10432637, 0.29937132,\n",
       "       0.2494761 , 0.49      , 0.18015718, 0.18143716, 0.34019468,\n",
       "       0.18      , 0.27215575, 0.06241666, 0.4       , 0.18157574,\n",
       "       0.3       , 0.2       , 0.00907186, 0.40823362, 0.00453593,\n",
       "       0.28087497])"
      ]
     },
     "metadata": {},
     "execution_count": 892
    }
   ],
   "metadata": {}
  },
  {
   "cell_type": "code",
   "execution_count": 893,
   "source": [
    "#pd.set_option('display.max_colwidth', None)\r\n",
    "df[df['weight_kg'] < 0.5][b][['mat_url','weight_kg','weight_float','weight_dimention']]\r\n",
    "#delete 697 and all where L is below 30 inches and W below 10"
   ],
   "outputs": [
    {
     "output_type": "execute_result",
     "data": {
      "text/plain": [
       "                            mat_url  weight_kg  weight_float weight_dimention\n",
       "28    https://www.amazon.com/Go-...   0.453593          1.00           pounds\n",
       "29    https://www.amazon.com/Gai...   0.113398          0.25           pounds\n",
       "56    https://www.amazon.com/Foi...   0.453593          1.00           pounds\n",
       "70    https://www.amazon.com/Gai...   0.453593          1.00           pounds\n",
       "155   https://www.amazon.com/Exe...   0.260000        260.00            grams\n",
       "158   https://www.amazon.com/man...   0.002000          2.00            grams\n",
       "206   https://www.amazon.com/Wow...   0.081647          0.18           pounds\n",
       "207   https://www.amazon.com/Des...   0.340455         12.00           ounces\n",
       "211   https://www.amazon.com/Pro...   0.158758          0.35           pounds\n",
       "231   https://www.amazon.com/Man...   0.453593          1.00           pounds\n",
       "234   https://www.amazon.com/Man...   0.090500         90.50            grams\n",
       "251   https://www.amazon.com/TOP...   0.104326          0.23           pounds\n",
       "258   https://www.amazon.com/Min...   0.299371          0.66           pounds\n",
       "293   https://www.amazon.com/Suk...   0.249476          0.55           pounds\n",
       "323   https://www.amazon.com/Yog...   0.490000          0.49        kilograms\n",
       "369   https://www.amazon.com/Non...   0.180157          6.35           ounces\n",
       "380   https://www.amazon.com/Suk...   0.181437          0.40           pounds\n",
       "438   https://www.amazon.com/Suk...   0.181437          0.40           pounds\n",
       "452   https://www.amazon.com/Suk...   0.340195          0.75           pounds\n",
       "489   https://www.amazon.com/Suk...   0.340195          0.75           pounds\n",
       "512   https://www.amazon.com/Wei...   0.180000        180.00            grams\n",
       "569   https://www.amazon.com/SOB...   0.453593          1.00           pounds\n",
       "606   https://www.amazon.com/XCE...   0.272156          0.60           pounds\n",
       "621   https://www.amazon.com/Spo...   0.062417          2.20           ounces\n",
       "697   https://www.amazon.com/Yog...   0.400000          0.40        kilograms\n",
       "699   https://www.amazon.com/Suk...   0.340455         12.00           ounces\n",
       "704   https://www.amazon.com/Gig...   0.181576          6.40           ounces\n",
       "705   https://www.amazon.com/Spo...   0.062417          2.20           ounces\n",
       "710   https://www.amazon.com/Fit...   0.300000          0.30        kilograms\n",
       "718   https://www.amazon.com/Suk...   0.340455         12.00           ounces\n",
       "749   https://www.amazon.com/Foi...   0.200000        200.00            grams\n",
       "794   https://www.amazon.com/SOB...   0.453593          1.00           pounds\n",
       "810   https://www.amazon.com/GoY...   0.009072          0.02           pounds\n",
       "837   https://www.amazon.com/SOB...   0.453593          1.00           pounds\n",
       "868   https://www.amazon.com/Bes...   0.408234          0.90           pounds\n",
       "889   https://www.amazon.com/FIT...   0.453593          1.00           pounds\n",
       "953   https://www.amazon.com/Lit...   0.004536          0.01           pounds\n",
       "966   https://www.amazon.com/Lix...   0.280875          9.90           ounces\n",
       "988   https://www.amazon.com/Lit...   0.004536          0.01           pounds\n",
       "1000  https://www.amazon.com/Lix...   0.280875          9.90           ounces\n",
       "1083  https://www.amazon.com/GoY...   0.009072          0.02           pounds"
      ],
      "text/html": [
       "<div>\n",
       "<style scoped>\n",
       "    .dataframe tbody tr th:only-of-type {\n",
       "        vertical-align: middle;\n",
       "    }\n",
       "\n",
       "    .dataframe tbody tr th {\n",
       "        vertical-align: top;\n",
       "    }\n",
       "\n",
       "    .dataframe thead th {\n",
       "        text-align: right;\n",
       "    }\n",
       "</style>\n",
       "<table border=\"1\" class=\"dataframe\">\n",
       "  <thead>\n",
       "    <tr style=\"text-align: right;\">\n",
       "      <th></th>\n",
       "      <th>mat_url</th>\n",
       "      <th>weight_kg</th>\n",
       "      <th>weight_float</th>\n",
       "      <th>weight_dimention</th>\n",
       "    </tr>\n",
       "  </thead>\n",
       "  <tbody>\n",
       "    <tr>\n",
       "      <th>28</th>\n",
       "      <td>https://www.amazon.com/Go-...</td>\n",
       "      <td>0.453593</td>\n",
       "      <td>1.00</td>\n",
       "      <td>pounds</td>\n",
       "    </tr>\n",
       "    <tr>\n",
       "      <th>29</th>\n",
       "      <td>https://www.amazon.com/Gai...</td>\n",
       "      <td>0.113398</td>\n",
       "      <td>0.25</td>\n",
       "      <td>pounds</td>\n",
       "    </tr>\n",
       "    <tr>\n",
       "      <th>56</th>\n",
       "      <td>https://www.amazon.com/Foi...</td>\n",
       "      <td>0.453593</td>\n",
       "      <td>1.00</td>\n",
       "      <td>pounds</td>\n",
       "    </tr>\n",
       "    <tr>\n",
       "      <th>70</th>\n",
       "      <td>https://www.amazon.com/Gai...</td>\n",
       "      <td>0.453593</td>\n",
       "      <td>1.00</td>\n",
       "      <td>pounds</td>\n",
       "    </tr>\n",
       "    <tr>\n",
       "      <th>155</th>\n",
       "      <td>https://www.amazon.com/Exe...</td>\n",
       "      <td>0.260000</td>\n",
       "      <td>260.00</td>\n",
       "      <td>grams</td>\n",
       "    </tr>\n",
       "    <tr>\n",
       "      <th>158</th>\n",
       "      <td>https://www.amazon.com/man...</td>\n",
       "      <td>0.002000</td>\n",
       "      <td>2.00</td>\n",
       "      <td>grams</td>\n",
       "    </tr>\n",
       "    <tr>\n",
       "      <th>206</th>\n",
       "      <td>https://www.amazon.com/Wow...</td>\n",
       "      <td>0.081647</td>\n",
       "      <td>0.18</td>\n",
       "      <td>pounds</td>\n",
       "    </tr>\n",
       "    <tr>\n",
       "      <th>207</th>\n",
       "      <td>https://www.amazon.com/Des...</td>\n",
       "      <td>0.340455</td>\n",
       "      <td>12.00</td>\n",
       "      <td>ounces</td>\n",
       "    </tr>\n",
       "    <tr>\n",
       "      <th>211</th>\n",
       "      <td>https://www.amazon.com/Pro...</td>\n",
       "      <td>0.158758</td>\n",
       "      <td>0.35</td>\n",
       "      <td>pounds</td>\n",
       "    </tr>\n",
       "    <tr>\n",
       "      <th>231</th>\n",
       "      <td>https://www.amazon.com/Man...</td>\n",
       "      <td>0.453593</td>\n",
       "      <td>1.00</td>\n",
       "      <td>pounds</td>\n",
       "    </tr>\n",
       "    <tr>\n",
       "      <th>234</th>\n",
       "      <td>https://www.amazon.com/Man...</td>\n",
       "      <td>0.090500</td>\n",
       "      <td>90.50</td>\n",
       "      <td>grams</td>\n",
       "    </tr>\n",
       "    <tr>\n",
       "      <th>251</th>\n",
       "      <td>https://www.amazon.com/TOP...</td>\n",
       "      <td>0.104326</td>\n",
       "      <td>0.23</td>\n",
       "      <td>pounds</td>\n",
       "    </tr>\n",
       "    <tr>\n",
       "      <th>258</th>\n",
       "      <td>https://www.amazon.com/Min...</td>\n",
       "      <td>0.299371</td>\n",
       "      <td>0.66</td>\n",
       "      <td>pounds</td>\n",
       "    </tr>\n",
       "    <tr>\n",
       "      <th>293</th>\n",
       "      <td>https://www.amazon.com/Suk...</td>\n",
       "      <td>0.249476</td>\n",
       "      <td>0.55</td>\n",
       "      <td>pounds</td>\n",
       "    </tr>\n",
       "    <tr>\n",
       "      <th>323</th>\n",
       "      <td>https://www.amazon.com/Yog...</td>\n",
       "      <td>0.490000</td>\n",
       "      <td>0.49</td>\n",
       "      <td>kilograms</td>\n",
       "    </tr>\n",
       "    <tr>\n",
       "      <th>369</th>\n",
       "      <td>https://www.amazon.com/Non...</td>\n",
       "      <td>0.180157</td>\n",
       "      <td>6.35</td>\n",
       "      <td>ounces</td>\n",
       "    </tr>\n",
       "    <tr>\n",
       "      <th>380</th>\n",
       "      <td>https://www.amazon.com/Suk...</td>\n",
       "      <td>0.181437</td>\n",
       "      <td>0.40</td>\n",
       "      <td>pounds</td>\n",
       "    </tr>\n",
       "    <tr>\n",
       "      <th>438</th>\n",
       "      <td>https://www.amazon.com/Suk...</td>\n",
       "      <td>0.181437</td>\n",
       "      <td>0.40</td>\n",
       "      <td>pounds</td>\n",
       "    </tr>\n",
       "    <tr>\n",
       "      <th>452</th>\n",
       "      <td>https://www.amazon.com/Suk...</td>\n",
       "      <td>0.340195</td>\n",
       "      <td>0.75</td>\n",
       "      <td>pounds</td>\n",
       "    </tr>\n",
       "    <tr>\n",
       "      <th>489</th>\n",
       "      <td>https://www.amazon.com/Suk...</td>\n",
       "      <td>0.340195</td>\n",
       "      <td>0.75</td>\n",
       "      <td>pounds</td>\n",
       "    </tr>\n",
       "    <tr>\n",
       "      <th>512</th>\n",
       "      <td>https://www.amazon.com/Wei...</td>\n",
       "      <td>0.180000</td>\n",
       "      <td>180.00</td>\n",
       "      <td>grams</td>\n",
       "    </tr>\n",
       "    <tr>\n",
       "      <th>569</th>\n",
       "      <td>https://www.amazon.com/SOB...</td>\n",
       "      <td>0.453593</td>\n",
       "      <td>1.00</td>\n",
       "      <td>pounds</td>\n",
       "    </tr>\n",
       "    <tr>\n",
       "      <th>606</th>\n",
       "      <td>https://www.amazon.com/XCE...</td>\n",
       "      <td>0.272156</td>\n",
       "      <td>0.60</td>\n",
       "      <td>pounds</td>\n",
       "    </tr>\n",
       "    <tr>\n",
       "      <th>621</th>\n",
       "      <td>https://www.amazon.com/Spo...</td>\n",
       "      <td>0.062417</td>\n",
       "      <td>2.20</td>\n",
       "      <td>ounces</td>\n",
       "    </tr>\n",
       "    <tr>\n",
       "      <th>697</th>\n",
       "      <td>https://www.amazon.com/Yog...</td>\n",
       "      <td>0.400000</td>\n",
       "      <td>0.40</td>\n",
       "      <td>kilograms</td>\n",
       "    </tr>\n",
       "    <tr>\n",
       "      <th>699</th>\n",
       "      <td>https://www.amazon.com/Suk...</td>\n",
       "      <td>0.340455</td>\n",
       "      <td>12.00</td>\n",
       "      <td>ounces</td>\n",
       "    </tr>\n",
       "    <tr>\n",
       "      <th>704</th>\n",
       "      <td>https://www.amazon.com/Gig...</td>\n",
       "      <td>0.181576</td>\n",
       "      <td>6.40</td>\n",
       "      <td>ounces</td>\n",
       "    </tr>\n",
       "    <tr>\n",
       "      <th>705</th>\n",
       "      <td>https://www.amazon.com/Spo...</td>\n",
       "      <td>0.062417</td>\n",
       "      <td>2.20</td>\n",
       "      <td>ounces</td>\n",
       "    </tr>\n",
       "    <tr>\n",
       "      <th>710</th>\n",
       "      <td>https://www.amazon.com/Fit...</td>\n",
       "      <td>0.300000</td>\n",
       "      <td>0.30</td>\n",
       "      <td>kilograms</td>\n",
       "    </tr>\n",
       "    <tr>\n",
       "      <th>718</th>\n",
       "      <td>https://www.amazon.com/Suk...</td>\n",
       "      <td>0.340455</td>\n",
       "      <td>12.00</td>\n",
       "      <td>ounces</td>\n",
       "    </tr>\n",
       "    <tr>\n",
       "      <th>749</th>\n",
       "      <td>https://www.amazon.com/Foi...</td>\n",
       "      <td>0.200000</td>\n",
       "      <td>200.00</td>\n",
       "      <td>grams</td>\n",
       "    </tr>\n",
       "    <tr>\n",
       "      <th>794</th>\n",
       "      <td>https://www.amazon.com/SOB...</td>\n",
       "      <td>0.453593</td>\n",
       "      <td>1.00</td>\n",
       "      <td>pounds</td>\n",
       "    </tr>\n",
       "    <tr>\n",
       "      <th>810</th>\n",
       "      <td>https://www.amazon.com/GoY...</td>\n",
       "      <td>0.009072</td>\n",
       "      <td>0.02</td>\n",
       "      <td>pounds</td>\n",
       "    </tr>\n",
       "    <tr>\n",
       "      <th>837</th>\n",
       "      <td>https://www.amazon.com/SOB...</td>\n",
       "      <td>0.453593</td>\n",
       "      <td>1.00</td>\n",
       "      <td>pounds</td>\n",
       "    </tr>\n",
       "    <tr>\n",
       "      <th>868</th>\n",
       "      <td>https://www.amazon.com/Bes...</td>\n",
       "      <td>0.408234</td>\n",
       "      <td>0.90</td>\n",
       "      <td>pounds</td>\n",
       "    </tr>\n",
       "    <tr>\n",
       "      <th>889</th>\n",
       "      <td>https://www.amazon.com/FIT...</td>\n",
       "      <td>0.453593</td>\n",
       "      <td>1.00</td>\n",
       "      <td>pounds</td>\n",
       "    </tr>\n",
       "    <tr>\n",
       "      <th>953</th>\n",
       "      <td>https://www.amazon.com/Lit...</td>\n",
       "      <td>0.004536</td>\n",
       "      <td>0.01</td>\n",
       "      <td>pounds</td>\n",
       "    </tr>\n",
       "    <tr>\n",
       "      <th>966</th>\n",
       "      <td>https://www.amazon.com/Lix...</td>\n",
       "      <td>0.280875</td>\n",
       "      <td>9.90</td>\n",
       "      <td>ounces</td>\n",
       "    </tr>\n",
       "    <tr>\n",
       "      <th>988</th>\n",
       "      <td>https://www.amazon.com/Lit...</td>\n",
       "      <td>0.004536</td>\n",
       "      <td>0.01</td>\n",
       "      <td>pounds</td>\n",
       "    </tr>\n",
       "    <tr>\n",
       "      <th>1000</th>\n",
       "      <td>https://www.amazon.com/Lix...</td>\n",
       "      <td>0.280875</td>\n",
       "      <td>9.90</td>\n",
       "      <td>ounces</td>\n",
       "    </tr>\n",
       "    <tr>\n",
       "      <th>1083</th>\n",
       "      <td>https://www.amazon.com/GoY...</td>\n",
       "      <td>0.009072</td>\n",
       "      <td>0.02</td>\n",
       "      <td>pounds</td>\n",
       "    </tr>\n",
       "  </tbody>\n",
       "</table>\n",
       "</div>"
      ]
     },
     "metadata": {},
     "execution_count": 893
    }
   ],
   "metadata": {}
  },
  {
   "cell_type": "code",
   "execution_count": 894,
   "source": [
    "df.drop(['weight_float','weight_dimention','weight','mat_url','table_features_color_care_material'], axis=1, inplace=True)"
   ],
   "outputs": [],
   "metadata": {}
  },
  {
   "cell_type": "code",
   "execution_count": 895,
   "source": [
    "df.shape"
   ],
   "outputs": [
    {
     "output_type": "execute_result",
     "data": {
      "text/plain": [
       "(1086, 14)"
      ]
     },
     "metadata": {},
     "execution_count": 895
    }
   ],
   "metadata": {}
  },
  {
   "cell_type": "code",
   "execution_count": 896,
   "source": [
    "df.head(5)"
   ],
   "outputs": [
    {
     "output_type": "execute_result",
     "data": {
      "text/plain": [
       "                            name  number_reviews  rating  \\\n",
       "0  YuniMuse Yoga Mat, Exercis...              58     4.5   \n",
       "1  Matymats Yoga Mat, Workout...             191     4.6   \n",
       "2  Jpodream Yoga Mat, Exercis...              34     4.7   \n",
       "3  SPWOLFRT 2 Pack Wall Mount...             101     4.2   \n",
       "4  Yoga Direct Deluxe Extra T...             307     4.6   \n",
       "\n",
       "                    reviews_text other_prices                   other_colors  \\\n",
       "0  Jade|Perfect thickness and...            0  \"Black\" -\"Green-black\" -\"P...   \n",
       "1  Amanda|Beautiful, high qua...            0  \"72&quot; x 24&quot; Chris...   \n",
       "2  A.S|Nice & Comfy mat|Revie...            0                              0   \n",
       "3  Tee|Didn’t work out|Review...            0                              0   \n",
       "4  shar|color???|Reviewed in ...            0  \"Forest Green\" -\"Gray\" -\"J...   \n",
       "\n",
       "   combined_price                   dimentions             care  \\\n",
       "0             NaN               72 x 24 inches      Water proof   \n",
       "1           15.99                          NaN              NaN   \n",
       "2           19.99                          NaN              NaN   \n",
       "3           10.99                          NaN              NaN   \n",
       "4             NaN   72 x 0.25 x 24 inchesItem    Hand Wash Only   \n",
       "\n",
       "        thickness                       material         brand  \\\n",
       "0   6 MicronItem    Thermoplastic ElastomersP...      YuniMuse   \n",
       "1             NaN                            NaN           NaN   \n",
       "2   6 Millimeters        Thermoplastic Elastomer      Jpodream   \n",
       "3             NaN                            NaN           NaN   \n",
       "4             NaN                   FoamProduct    Yoga Direct   \n",
       "\n",
       "                         color  weight_kg  \n",
       "0    Color BlackBrand YuniMuse   0.816467  \n",
       "1                          NaN        NaN  \n",
       "2               Brand Jpodream        NaN  \n",
       "3                          NaN        NaN  \n",
       "4  Color GrayBrand Yoga Direct   1.360779  "
      ],
      "text/html": [
       "<div>\n",
       "<style scoped>\n",
       "    .dataframe tbody tr th:only-of-type {\n",
       "        vertical-align: middle;\n",
       "    }\n",
       "\n",
       "    .dataframe tbody tr th {\n",
       "        vertical-align: top;\n",
       "    }\n",
       "\n",
       "    .dataframe thead th {\n",
       "        text-align: right;\n",
       "    }\n",
       "</style>\n",
       "<table border=\"1\" class=\"dataframe\">\n",
       "  <thead>\n",
       "    <tr style=\"text-align: right;\">\n",
       "      <th></th>\n",
       "      <th>name</th>\n",
       "      <th>number_reviews</th>\n",
       "      <th>rating</th>\n",
       "      <th>reviews_text</th>\n",
       "      <th>other_prices</th>\n",
       "      <th>other_colors</th>\n",
       "      <th>combined_price</th>\n",
       "      <th>dimentions</th>\n",
       "      <th>care</th>\n",
       "      <th>thickness</th>\n",
       "      <th>material</th>\n",
       "      <th>brand</th>\n",
       "      <th>color</th>\n",
       "      <th>weight_kg</th>\n",
       "    </tr>\n",
       "  </thead>\n",
       "  <tbody>\n",
       "    <tr>\n",
       "      <th>0</th>\n",
       "      <td>YuniMuse Yoga Mat, Exercis...</td>\n",
       "      <td>58</td>\n",
       "      <td>4.5</td>\n",
       "      <td>Jade|Perfect thickness and...</td>\n",
       "      <td>0</td>\n",
       "      <td>\"Black\" -\"Green-black\" -\"P...</td>\n",
       "      <td>NaN</td>\n",
       "      <td>72 x 24 inches</td>\n",
       "      <td>Water proof</td>\n",
       "      <td>6 MicronItem</td>\n",
       "      <td>Thermoplastic ElastomersP...</td>\n",
       "      <td>YuniMuse</td>\n",
       "      <td>Color BlackBrand YuniMuse</td>\n",
       "      <td>0.816467</td>\n",
       "    </tr>\n",
       "    <tr>\n",
       "      <th>1</th>\n",
       "      <td>Matymats Yoga Mat, Workout...</td>\n",
       "      <td>191</td>\n",
       "      <td>4.6</td>\n",
       "      <td>Amanda|Beautiful, high qua...</td>\n",
       "      <td>0</td>\n",
       "      <td>\"72&amp;quot; x 24&amp;quot; Chris...</td>\n",
       "      <td>15.99</td>\n",
       "      <td>NaN</td>\n",
       "      <td>NaN</td>\n",
       "      <td>NaN</td>\n",
       "      <td>NaN</td>\n",
       "      <td>NaN</td>\n",
       "      <td>NaN</td>\n",
       "      <td>NaN</td>\n",
       "    </tr>\n",
       "    <tr>\n",
       "      <th>2</th>\n",
       "      <td>Jpodream Yoga Mat, Exercis...</td>\n",
       "      <td>34</td>\n",
       "      <td>4.7</td>\n",
       "      <td>A.S|Nice &amp; Comfy mat|Revie...</td>\n",
       "      <td>0</td>\n",
       "      <td>0</td>\n",
       "      <td>19.99</td>\n",
       "      <td>NaN</td>\n",
       "      <td>NaN</td>\n",
       "      <td>6 Millimeters</td>\n",
       "      <td>Thermoplastic Elastomer</td>\n",
       "      <td>Jpodream</td>\n",
       "      <td>Brand Jpodream</td>\n",
       "      <td>NaN</td>\n",
       "    </tr>\n",
       "    <tr>\n",
       "      <th>3</th>\n",
       "      <td>SPWOLFRT 2 Pack Wall Mount...</td>\n",
       "      <td>101</td>\n",
       "      <td>4.2</td>\n",
       "      <td>Tee|Didn’t work out|Review...</td>\n",
       "      <td>0</td>\n",
       "      <td>0</td>\n",
       "      <td>10.99</td>\n",
       "      <td>NaN</td>\n",
       "      <td>NaN</td>\n",
       "      <td>NaN</td>\n",
       "      <td>NaN</td>\n",
       "      <td>NaN</td>\n",
       "      <td>NaN</td>\n",
       "      <td>NaN</td>\n",
       "    </tr>\n",
       "    <tr>\n",
       "      <th>4</th>\n",
       "      <td>Yoga Direct Deluxe Extra T...</td>\n",
       "      <td>307</td>\n",
       "      <td>4.6</td>\n",
       "      <td>shar|color???|Reviewed in ...</td>\n",
       "      <td>0</td>\n",
       "      <td>\"Forest Green\" -\"Gray\" -\"J...</td>\n",
       "      <td>NaN</td>\n",
       "      <td>72 x 0.25 x 24 inchesItem</td>\n",
       "      <td>Hand Wash Only</td>\n",
       "      <td>NaN</td>\n",
       "      <td>FoamProduct</td>\n",
       "      <td>Yoga Direct</td>\n",
       "      <td>Color GrayBrand Yoga Direct</td>\n",
       "      <td>1.360779</td>\n",
       "    </tr>\n",
       "  </tbody>\n",
       "</table>\n",
       "</div>"
      ]
     },
     "metadata": {},
     "execution_count": 896
    }
   ],
   "metadata": {}
  },
  {
   "cell_type": "markdown",
   "source": [
    "Converting dimentions and thickness in three rows: L X W X thickness_two"
   ],
   "metadata": {}
  },
  {
   "cell_type": "code",
   "execution_count": 897,
   "source": [
    "#L\r\n",
    "df['dimentions'] = df['dimentions'].str.strip().str.lower()\r\n",
    "df['L'] = df['dimentions'].apply(lambda x:  x if type(x)==float else x.split('x',1)[0]).astype(float)\r\n"
   ],
   "outputs": [],
   "metadata": {}
  },
  {
   "cell_type": "code",
   "execution_count": 898,
   "source": [
    "#W\r\n",
    "df['W'] = df['dimentions'].apply(lambda x:  x if type(x)==float else x.split('x',1)[1]).str.strip()\r\n",
    "df['W'] = df['W'].apply(lambda x:  x if type(x)==float else x.split(' ',1)[0]).astype(float)\r\n"
   ],
   "outputs": [],
   "metadata": {}
  },
  {
   "cell_type": "code",
   "execution_count": 899,
   "source": [
    "#thickness\r\n",
    "#filter from W forward\r\n",
    "df['thickness_2'] = df['dimentions'].apply(lambda x:  x if type(x)==float else x.split('x',1)[1]).str.strip()\r\n",
    "#filter from thickness forward\r\n",
    "df['thickness_2'] = df['thickness_2'].apply(lambda x:  x if type(x)==float else x.split(' ',1)[1]).str.strip()\r\n",
    "#filter only thickness\r\n",
    "regex_thickness = re.compile(r'[\\d+\\.]+[\\d*]')\r\n",
    "df['thickness_2']= df['thickness_2'].apply(lambda x:  x if type(x)==float else re.findall(regex_thickness,x))\r\n",
    "df['thickness_2'] = df['thickness_2'].apply(lambda y: np.nan  if y==[] else float(str(y).replace(\"['\",'').replace(\"']\",'')))\r\n",
    "df['thickness_2'][df['thickness_2'].notnull()]\r\n",
    "#dimention\r\n",
    "#filter only text\r\n",
    "regex_dimention = re.compile(r'[a-z]+')\r\n",
    "df['dimention_LXW']= df['dimentions'].apply(lambda x:  x if type(x)==float else re.findall(regex_dimention,x))\r\n",
    "df['dimention_LXW'] = df['dimention_LXW'].apply(lambda y: np.nan  if y==[]  else str(y))\r\n",
    "df['dimention_LXW'].unique()\r\n",
    "#all is in inches / but is mm for the thickness"
   ],
   "outputs": [
    {
     "output_type": "execute_result",
     "data": {
      "text/plain": [
       "array([\"['x', 'inches']\", 'nan', \"['x', 'x', 'inchesitem']\",\n",
       "       \"['x', 'x', 'inches']\", \"['x', 'inchesitem']\"], dtype=object)"
      ]
     },
     "metadata": {},
     "execution_count": 899
    }
   ],
   "metadata": {}
  },
  {
   "cell_type": "code",
   "execution_count": 900,
   "source": [
    "#df.isna().sum()"
   ],
   "outputs": [],
   "metadata": {}
  },
  {
   "cell_type": "code",
   "execution_count": 901,
   "source": [
    "#put max value as L and min value as thickness\r\n",
    "df = df.replace(np.nan, 0, regex=True)\r\n",
    "df['L'] = df[['W','L','thickness_2']].max(axis=1)\r\n",
    "df['thickness_2'] = df[['W','L','thickness_2']].min(axis=1)\r\n",
    "df['A'] = df[['W','thickness_2']].max(axis=1)\r\n",
    "df['B'] = df[['W','L']].min(axis=1)\r\n",
    "df['W'] = df[['A','B']].max(axis=1)\r\n"
   ],
   "outputs": [],
   "metadata": {}
  },
  {
   "cell_type": "markdown",
   "source": [
    "Half of  dimensions are nan and 1/5 of exixsting ones are not valid"
   ],
   "metadata": {}
  },
  {
   "cell_type": "code",
   "execution_count": 902,
   "source": [
    "df = df.replace(0,np.nan, regex=True)\r\n",
    "L_less_than_20 = df[df['L'] < 20][['mat_url','weight_kg','L','W','thickness_2']]\r\n",
    "W_less_than_20 = df[df['W'] < 10][['mat_url','weight_kg','L','W','thickness_2']]\r\n",
    "W_less_than_20.shape "
   ],
   "outputs": [
    {
     "output_type": "error",
     "ename": "KeyError",
     "evalue": "\"['mat_url'] not in index\"",
     "traceback": [
      "\u001b[1;31m---------------------------------------------------------------------------\u001b[0m",
      "\u001b[1;31mKeyError\u001b[0m                                  Traceback (most recent call last)",
      "\u001b[1;32m<ipython-input-902-cb029e46c93b>\u001b[0m in \u001b[0;36m<module>\u001b[1;34m\u001b[0m\n\u001b[0;32m      1\u001b[0m \u001b[0mdf\u001b[0m \u001b[1;33m=\u001b[0m \u001b[0mdf\u001b[0m\u001b[1;33m.\u001b[0m\u001b[0mreplace\u001b[0m\u001b[1;33m(\u001b[0m\u001b[1;36m0\u001b[0m\u001b[1;33m,\u001b[0m\u001b[0mnp\u001b[0m\u001b[1;33m.\u001b[0m\u001b[0mnan\u001b[0m\u001b[1;33m,\u001b[0m \u001b[0mregex\u001b[0m\u001b[1;33m=\u001b[0m\u001b[1;32mTrue\u001b[0m\u001b[1;33m)\u001b[0m\u001b[1;33m\u001b[0m\u001b[1;33m\u001b[0m\u001b[0m\n\u001b[1;32m----> 2\u001b[1;33m \u001b[0mL_less_than_20\u001b[0m \u001b[1;33m=\u001b[0m \u001b[0mdf\u001b[0m\u001b[1;33m[\u001b[0m\u001b[0mdf\u001b[0m\u001b[1;33m[\u001b[0m\u001b[1;34m'L'\u001b[0m\u001b[1;33m]\u001b[0m \u001b[1;33m<\u001b[0m \u001b[1;36m20\u001b[0m\u001b[1;33m]\u001b[0m\u001b[1;33m[\u001b[0m\u001b[1;33m[\u001b[0m\u001b[1;34m'mat_url'\u001b[0m\u001b[1;33m,\u001b[0m\u001b[1;34m'weight_kg'\u001b[0m\u001b[1;33m,\u001b[0m\u001b[1;34m'L'\u001b[0m\u001b[1;33m,\u001b[0m\u001b[1;34m'W'\u001b[0m\u001b[1;33m,\u001b[0m\u001b[1;34m'thickness_2'\u001b[0m\u001b[1;33m]\u001b[0m\u001b[1;33m]\u001b[0m\u001b[1;33m\u001b[0m\u001b[1;33m\u001b[0m\u001b[0m\n\u001b[0m\u001b[0;32m      3\u001b[0m \u001b[0mW_less_than_20\u001b[0m \u001b[1;33m=\u001b[0m \u001b[0mdf\u001b[0m\u001b[1;33m[\u001b[0m\u001b[0mdf\u001b[0m\u001b[1;33m[\u001b[0m\u001b[1;34m'W'\u001b[0m\u001b[1;33m]\u001b[0m \u001b[1;33m<\u001b[0m \u001b[1;36m10\u001b[0m\u001b[1;33m]\u001b[0m\u001b[1;33m[\u001b[0m\u001b[1;33m[\u001b[0m\u001b[1;34m'mat_url'\u001b[0m\u001b[1;33m,\u001b[0m\u001b[1;34m'weight_kg'\u001b[0m\u001b[1;33m,\u001b[0m\u001b[1;34m'L'\u001b[0m\u001b[1;33m,\u001b[0m\u001b[1;34m'W'\u001b[0m\u001b[1;33m,\u001b[0m\u001b[1;34m'thickness_2'\u001b[0m\u001b[1;33m]\u001b[0m\u001b[1;33m]\u001b[0m\u001b[1;33m\u001b[0m\u001b[1;33m\u001b[0m\u001b[0m\n\u001b[0;32m      4\u001b[0m \u001b[0mW_less_than_20\u001b[0m\u001b[1;33m.\u001b[0m\u001b[0mshape\u001b[0m\u001b[1;33m\u001b[0m\u001b[1;33m\u001b[0m\u001b[0m\n",
      "\u001b[1;32m~\\miniconda3\\lib\\site-packages\\pandas\\core\\frame.py\u001b[0m in \u001b[0;36m__getitem__\u001b[1;34m(self, key)\u001b[0m\n\u001b[0;32m   3028\u001b[0m             \u001b[1;32mif\u001b[0m \u001b[0mis_iterator\u001b[0m\u001b[1;33m(\u001b[0m\u001b[0mkey\u001b[0m\u001b[1;33m)\u001b[0m\u001b[1;33m:\u001b[0m\u001b[1;33m\u001b[0m\u001b[1;33m\u001b[0m\u001b[0m\n\u001b[0;32m   3029\u001b[0m                 \u001b[0mkey\u001b[0m \u001b[1;33m=\u001b[0m \u001b[0mlist\u001b[0m\u001b[1;33m(\u001b[0m\u001b[0mkey\u001b[0m\u001b[1;33m)\u001b[0m\u001b[1;33m\u001b[0m\u001b[1;33m\u001b[0m\u001b[0m\n\u001b[1;32m-> 3030\u001b[1;33m             \u001b[0mindexer\u001b[0m \u001b[1;33m=\u001b[0m \u001b[0mself\u001b[0m\u001b[1;33m.\u001b[0m\u001b[0mloc\u001b[0m\u001b[1;33m.\u001b[0m\u001b[0m_get_listlike_indexer\u001b[0m\u001b[1;33m(\u001b[0m\u001b[0mkey\u001b[0m\u001b[1;33m,\u001b[0m \u001b[0maxis\u001b[0m\u001b[1;33m=\u001b[0m\u001b[1;36m1\u001b[0m\u001b[1;33m,\u001b[0m \u001b[0mraise_missing\u001b[0m\u001b[1;33m=\u001b[0m\u001b[1;32mTrue\u001b[0m\u001b[1;33m)\u001b[0m\u001b[1;33m[\u001b[0m\u001b[1;36m1\u001b[0m\u001b[1;33m]\u001b[0m\u001b[1;33m\u001b[0m\u001b[1;33m\u001b[0m\u001b[0m\n\u001b[0m\u001b[0;32m   3031\u001b[0m \u001b[1;33m\u001b[0m\u001b[0m\n\u001b[0;32m   3032\u001b[0m         \u001b[1;31m# take() does not accept boolean indexers\u001b[0m\u001b[1;33m\u001b[0m\u001b[1;33m\u001b[0m\u001b[1;33m\u001b[0m\u001b[0m\n",
      "\u001b[1;32m~\\miniconda3\\lib\\site-packages\\pandas\\core\\indexing.py\u001b[0m in \u001b[0;36m_get_listlike_indexer\u001b[1;34m(self, key, axis, raise_missing)\u001b[0m\n\u001b[0;32m   1264\u001b[0m             \u001b[0mkeyarr\u001b[0m\u001b[1;33m,\u001b[0m \u001b[0mindexer\u001b[0m\u001b[1;33m,\u001b[0m \u001b[0mnew_indexer\u001b[0m \u001b[1;33m=\u001b[0m \u001b[0max\u001b[0m\u001b[1;33m.\u001b[0m\u001b[0m_reindex_non_unique\u001b[0m\u001b[1;33m(\u001b[0m\u001b[0mkeyarr\u001b[0m\u001b[1;33m)\u001b[0m\u001b[1;33m\u001b[0m\u001b[1;33m\u001b[0m\u001b[0m\n\u001b[0;32m   1265\u001b[0m \u001b[1;33m\u001b[0m\u001b[0m\n\u001b[1;32m-> 1266\u001b[1;33m         \u001b[0mself\u001b[0m\u001b[1;33m.\u001b[0m\u001b[0m_validate_read_indexer\u001b[0m\u001b[1;33m(\u001b[0m\u001b[0mkeyarr\u001b[0m\u001b[1;33m,\u001b[0m \u001b[0mindexer\u001b[0m\u001b[1;33m,\u001b[0m \u001b[0maxis\u001b[0m\u001b[1;33m,\u001b[0m \u001b[0mraise_missing\u001b[0m\u001b[1;33m=\u001b[0m\u001b[0mraise_missing\u001b[0m\u001b[1;33m)\u001b[0m\u001b[1;33m\u001b[0m\u001b[1;33m\u001b[0m\u001b[0m\n\u001b[0m\u001b[0;32m   1267\u001b[0m         \u001b[1;32mreturn\u001b[0m \u001b[0mkeyarr\u001b[0m\u001b[1;33m,\u001b[0m \u001b[0mindexer\u001b[0m\u001b[1;33m\u001b[0m\u001b[1;33m\u001b[0m\u001b[0m\n\u001b[0;32m   1268\u001b[0m \u001b[1;33m\u001b[0m\u001b[0m\n",
      "\u001b[1;32m~\\miniconda3\\lib\\site-packages\\pandas\\core\\indexing.py\u001b[0m in \u001b[0;36m_validate_read_indexer\u001b[1;34m(self, key, indexer, axis, raise_missing)\u001b[0m\n\u001b[0;32m   1314\u001b[0m             \u001b[1;32mif\u001b[0m \u001b[0mraise_missing\u001b[0m\u001b[1;33m:\u001b[0m\u001b[1;33m\u001b[0m\u001b[1;33m\u001b[0m\u001b[0m\n\u001b[0;32m   1315\u001b[0m                 \u001b[0mnot_found\u001b[0m \u001b[1;33m=\u001b[0m \u001b[0mlist\u001b[0m\u001b[1;33m(\u001b[0m\u001b[0mset\u001b[0m\u001b[1;33m(\u001b[0m\u001b[0mkey\u001b[0m\u001b[1;33m)\u001b[0m \u001b[1;33m-\u001b[0m \u001b[0mset\u001b[0m\u001b[1;33m(\u001b[0m\u001b[0max\u001b[0m\u001b[1;33m)\u001b[0m\u001b[1;33m)\u001b[0m\u001b[1;33m\u001b[0m\u001b[1;33m\u001b[0m\u001b[0m\n\u001b[1;32m-> 1316\u001b[1;33m                 \u001b[1;32mraise\u001b[0m \u001b[0mKeyError\u001b[0m\u001b[1;33m(\u001b[0m\u001b[1;34mf\"{not_found} not in index\"\u001b[0m\u001b[1;33m)\u001b[0m\u001b[1;33m\u001b[0m\u001b[1;33m\u001b[0m\u001b[0m\n\u001b[0m\u001b[0;32m   1317\u001b[0m \u001b[1;33m\u001b[0m\u001b[0m\n\u001b[0;32m   1318\u001b[0m             \u001b[0mnot_found\u001b[0m \u001b[1;33m=\u001b[0m \u001b[0mkey\u001b[0m\u001b[1;33m[\u001b[0m\u001b[0mmissing_mask\u001b[0m\u001b[1;33m]\u001b[0m\u001b[1;33m\u001b[0m\u001b[1;33m\u001b[0m\u001b[0m\n",
      "\u001b[1;31mKeyError\u001b[0m: \"['mat_url'] not in index\""
     ]
    }
   ],
   "metadata": {}
  },
  {
   "cell_type": "code",
   "execution_count": null,
   "source": [
    "df['thickness']=df['thickness'].str.strip()\r\n",
    "df['thickness_float'] = df['thickness'].apply(lambda x:  x if type(x)==float else x.split()[0]).astype(float)\r\n",
    "df['thickness_dim']= df['thickness'].apply(lambda x:  x if type(x)==float else x.split()[1]).str.lower().str.replace('item','').str.replace('league','')\r\n",
    "print(df['thickness_dim'].unique())"
   ],
   "outputs": [
    {
     "output_type": "stream",
     "name": "stdout",
     "text": [
      "['micron' nan 'millimeters' 'inches' 'centimeters' 'mils' 'feet']\n"
     ]
    }
   ],
   "metadata": {}
  },
  {
   "cell_type": "code",
   "execution_count": null,
   "source": [
    "class dimention_convertion_thickness():\r\n",
    "    '''\r\n",
    "     'feet', 'micron' 'centimeters', 'inches' to 'milimeters'\r\n",
    "    '''\r\n",
    "    def __init__(self,value_float, dimention) :\r\n",
    "        self.value = value_float\r\n",
    "        self.dimention = dimention\r\n",
    "        \r\n",
    "    def convert (self):\r\n",
    "        if self.dimention == 'feet':\r\n",
    "            self.from_feet_to_mm() \r\n",
    "            return self.value\r\n",
    "        elif self.dimention ==  'micron':\r\n",
    "             self.from_micron_to_mm()\r\n",
    "             return self.value\r\n",
    "        elif self.dimention == 'centimeters':\r\n",
    "            self.from_cm_to_mm()\r\n",
    "            return self.value\r\n",
    "        elif self.dimention == 'inches':\r\n",
    "            self.from_inches_to_mm()\r\n",
    "            return self.value\r\n",
    "        elif self.dimention == 'millimeters':\r\n",
    "            return self.value\r\n",
    "        elif self.dimention == 'mils':\r\n",
    "            return self.value  \r\n",
    "        elif self.value == 'nan':\r\n",
    "            return np.nan   \r\n",
    "        else:\r\n",
    "            return(np.nan)  \r\n",
    "\r\n",
    "    def from_feet_to_mm( self):\r\n",
    "       \r\n",
    "           self.value =  self.value * 304.8\r\n",
    "       \r\n",
    "    def from_micron_to_mm(self):\r\n",
    "       \r\n",
    "             self.value =  self.value / 1000\r\n",
    "        \r\n",
    "    def from_cm_to_mm(self):\r\n",
    "        \r\n",
    "           self.value =  self.value * 10\r\n",
    "\r\n",
    "    def from_inches_to_mm(self):\r\n",
    "        \r\n",
    "           self.value =  self.value * 25.4\r\n",
    "\r\n",
    "\r\n",
    "          \r\n",
    "#thickness from second source is in differnt dimentions will convert all to mm in column thickness_mm\r\n",
    "#apply convertion_dimention class\r\n",
    "df['thickness_mm'] = df.apply(lambda row: dimention_convertion_thickness(row.thickness_float ,row.thickness_dim).convert(), axis=1)\r\n",
    "df['thickness_mm'].unique()"
   ],
   "outputs": [
    {
     "output_type": "execute_result",
     "data": {
      "text/plain": [
       "array([6.0000e-03,        nan, 6.0000e+00, 1.0000e+01, 6.3500e+00,\n",
       "       4.5000e+00, 7.6200e+00, 8.0000e+00, 5.0000e+00, 2.0000e+00,\n",
       "       7.0000e+00, 3.3020e+00, 6.0960e+00, 1.5240e+02, 1.2700e+01,\n",
       "       5.0800e+00, 3.5560e+00, 4.7000e+00, 4.0000e+00, 1.5000e+00,\n",
       "       1.5000e+01, 7.8740e+00, 1.5748e+01, 2.5400e+01, 3.0000e+00,\n",
       "       1.5240e+00, 1.0000e+00, 9.6520e+00, 4.0640e+00, 5.5000e+00,\n",
       "       6.0000e+01, 5.5880e+00, 4.3180e+00, 7.3152e+01, 1.3000e+00,\n",
       "       2.0320e+00, 5.0800e+01, 9.9060e+00, 2.8956e+01, 4.3000e+00])"
      ]
     },
     "metadata": {},
     "execution_count": 701
    }
   ],
   "metadata": {}
  },
  {
   "cell_type": "code",
   "execution_count": null,
   "source": [
    "df.drop(['thickness','thickness_float','thickness_dim'], axis=1, inplace=True)"
   ],
   "outputs": [],
   "metadata": {}
  },
  {
   "cell_type": "code",
   "execution_count": null,
   "source": [
    "#thickness_2 from inches to mm\r\n",
    "df['thickness_2'] =df['thickness_2'].apply(lambda x: dimention_convertion_thickness(x ,'inches').convert())\r\n",
    "#%%\r\n",
    "#comparing  thickness_2 from table features and thickness_mm\r\n",
    "plt.plot(df['thickness_2'], label ='2')\r\n",
    "plt.plot(df['thickness_mm'])\r\n",
    "plt.legend()\r\n",
    "mask_1 = df['thickness_2'] > 0\r\n",
    "mask_2 = df['thickness_mm'] > 0\r\n",
    "mask_3 = df['thickness_2'] > 15 \r\n",
    "mask_4 = df['thickness_mm'] > 15\r\n",
    "len(df['thickness_mm'][mask_1][mask_2][mask_4]), len(df['thickness_2'][mask_1][mask_2][mask_3])\r\n",
    "# about 3 mats has a width higher than 20mm (14, 29)"
   ],
   "outputs": [
    {
     "output_type": "execute_result",
     "data": {
      "text/plain": [
       "(4, 30)"
      ]
     },
     "metadata": {},
     "execution_count": 703
    },
    {
     "output_type": "display_data",
     "data": {
      "text/plain": [
       "<Figure size 432x288 with 1 Axes>"
      ],
      "image/png": "[encoded data removed]"
     },
     "metadata": {
      "needs_background": "light"
     }
    }
   ],
   "metadata": {}
  },
  {
   "cell_type": "code",
   "execution_count": null,
   "source": [
    "mask_1 = df['thickness_2'] > 0\r\n",
    "mask_2 = df['thickness_mm'] > 0\r\n",
    "mask_3 = df['thickness_2'] < 3 \r\n",
    "mask_4 = df['thickness_mm'] < 3\r\n",
    "len(df['thickness_mm'][mask_1][mask_2][mask_4]), len(df['thickness_2'][mask_1][mask_2][mask_3])"
   ],
   "outputs": [
    {
     "output_type": "execute_result",
     "data": {
      "text/plain": [
       "(16, 11)"
      ]
     },
     "metadata": {},
     "execution_count": 704
    }
   ],
   "metadata": {}
  },
  {
   "cell_type": "markdown",
   "source": [
    "Comparing thickness from the two sources and 262 out of 265 have less thann 2mm difference: "
   ],
   "metadata": {}
  },
  {
   "cell_type": "code",
   "execution_count": null,
   "source": [
    "\r\n",
    "#%%\r\n",
    "thickness_1 = df['thickness_mm'][mask_1][mask_2]\r\n",
    "thickness_2 = df['thickness_2'][mask_1][mask_2]\r\n",
    "mask_for_difference_less_than_2mm = (thickness_1-thickness_2) < 2\r\n",
    "mask_for_difference_more_than_2mm = (thickness_1-thickness_2) > 2\r\n",
    "#%%\r\n",
    "mask_for_difference_less_than_2mm.sum(), len(thickness_2), len(thickness_1)\r\n",
    "\r\n",
    "#%%"
   ],
   "outputs": [
    {
     "output_type": "execute_result",
     "data": {
      "text/plain": [
       "(262, 265, 265)"
      ]
     },
     "metadata": {},
     "execution_count": 705
    }
   ],
   "metadata": {}
  },
  {
   "cell_type": "markdown",
   "source": [
    "Combining thickness from different sources in one column "
   ],
   "metadata": {}
  },
  {
   "cell_type": "code",
   "execution_count": null,
   "source": [
    "df = df.replace(np.nan,0, regex=True)\r\n",
    "df['final_thickness'] = df['thickness_mm']\r\n",
    "print(df['final_thickness'].isna().sum())\r\n",
    "#df['final_thickness'] = df['final_thickness'].apply(lambda x:400 if x==0 else x )\r\n",
    "df['final_thickness'] = df.apply(lambda row: row.thickness_2 if row.thickness_mm==0 else row.thickness_mm, axis=1)\r\n",
    "df = df.replace(0,np.nan ,regex=True)\r\n",
    "print(df['final_thickness'].isnull().sum())\r\n",
    "\r\n",
    "#df['final_thickness'].unique()"
   ],
   "outputs": [
    {
     "output_type": "stream",
     "name": "stdout",
     "text": [
      "0\n",
      "490\n"
     ]
    },
    {
     "output_type": "execute_result",
     "data": {
      "text/plain": [
       "array([6.00000e-03,         nan, 6.00000e+00, 6.35000e+00, 1.00000e+01,\n",
       "       5.08000e+00, 4.50000e+00, 1.39954e+02, 3.55600e+00, 7.62000e+00,\n",
       "       6.09600e+00, 1.27000e+01, 1.09982e+02, 2.23520e+01, 8.00000e+00,\n",
       "       5.00000e+00, 2.00000e+00, 7.00000e+00, 3.30200e+00, 2.00660e+01,\n",
       "       1.52400e+02, 2.03200e+00, 1.77800e+02, 2.54000e+00, 4.06400e+00,\n",
       "       3.04800e+00, 7.87400e+00, 1.01600e+01, 4.70000e+00, 2.99720e+01,\n",
       "       5.84200e+01, 9.90600e+00, 3.81000e+00, 4.00000e+00, 1.50000e+00,\n",
       "       1.50000e+01, 1.49860e+01, 5.84200e+00, 1.27000e+02, 1.98120e+01,\n",
       "       5.99440e+01, 4.82600e+00, 1.57480e+01, 2.54000e+01, 3.00000e+00,\n",
       "       1.52400e+00, 1.00000e+00, 1.75260e+02, 9.65200e+00, 1.65100e+02,\n",
       "       5.50000e+00, 1.19380e+01, 6.00000e+01, 1.01600e+02, 5.58800e+00,\n",
       "       7.11200e+00, 1.29540e+01, 4.31800e+00, 3.50520e+01, 1.19634e+02,\n",
       "       1.57480e+03, 1.30048e+02, 7.31520e+01, 8.00100e+01, 1.30000e+00,\n",
       "       2.15900e+02, 1.11760e+02, 6.35000e+01, 1.19888e+02, 6.09600e+02,\n",
       "       1.18110e+02, 5.08000e+01, 2.89560e+01, 1.99898e+02, 1.14300e+02,\n",
       "       4.30000e+00])"
      ]
     },
     "metadata": {},
     "execution_count": 710
    }
   ],
   "metadata": {}
  },
  {
   "cell_type": "code",
   "execution_count": null,
   "source": [
    "\r\n",
    "#df.drop(['A','B','dimention_LXW','thickness_2','thickness','name'], axis=1, inplace=True)\r\n",
    "df.dropna().shape, df.shape\r\n",
    "df.isna().sum()"
   ],
   "outputs": [
    {
     "output_type": "execute_result",
     "data": {
      "text/plain": [
       "number_reviews     86\n",
       "rating             87\n",
       "reviews_text       30\n",
       "other_prices        0\n",
       "other_colors        0\n",
       "combined_price    204\n",
       "dimentions        497\n",
       "care              668\n",
       "material          288\n",
       "brand             176\n",
       "color             167\n",
       "weight_kg         650\n",
       "L                 497\n",
       "W                 497\n",
       "dtype: int64"
      ]
     },
     "metadata": {},
     "execution_count": 792
    }
   ],
   "metadata": {}
  },
  {
   "cell_type": "code",
   "execution_count": null,
   "source": [
    "df.columns"
   ],
   "outputs": [
    {
     "output_type": "execute_result",
     "data": {
      "text/plain": [
       "Index(['number_reviews', 'rating', 'reviews_text', 'other_prices',\n",
       "       'other_colors', 'combined_price', 'dimentions', 'care', 'material',\n",
       "       'brand', 'color', 'weight_kg', 'L', 'W'],\n",
       "      dtype='object')"
      ]
     },
     "metadata": {},
     "execution_count": 793
    }
   ],
   "metadata": {}
  },
  {
   "cell_type": "code",
   "execution_count": null,
   "source": [
    "df_rating_reviews = df[['rating','number_reviews','combined_price']]\r\n",
    "print( df_rating_reviews.dropna().shape , df_rating_reviews.shape)"
   ],
   "outputs": [
    {
     "output_type": "stream",
     "name": "stdout",
     "text": [
      "(826, 3) (1086, 3)\n"
     ]
    }
   ],
   "metadata": {}
  },
  {
   "cell_type": "code",
   "execution_count": 905,
   "source": [
    "df_rating_reviews.isna().sum()\r\n"
   ],
   "outputs": [
    {
     "output_type": "execute_result",
     "data": {
      "text/plain": [
       "rating            0\n",
       "number_reviews    0\n",
       "combined_price    0\n",
       "dtype: int64"
      ]
     },
     "metadata": {},
     "execution_count": 905
    }
   ],
   "metadata": {}
  },
  {
   "cell_type": "code",
   "execution_count": 906,
   "source": [
    "from sklearn import datasets, model_selection\r\n",
    "# 15% for validation and test, 70% for train in total\r\n",
    "y = df_rating_reviews['combined_price']\r\n",
    "X =df_rating_reviews[['rating','number_reviews']]\r\n",
    "X_train, X_test, y_train, y_test = model_selection.train_test_split(X,y, test_size=0.3)\r\n",
    "\r\n",
    "X_validation, X_test, y_validation, y_test = model_selection.train_test_split(\r\n",
    "    X_test, y_test, test_size=0.5\r\n",
    ")\r\n",
    "\r\n",
    "print(X_train.shape, y_train.shape)"
   ],
   "outputs": [
    {
     "output_type": "stream",
     "name": "stdout",
     "text": [
      "(617, 2) (617,)\n"
     ]
    }
   ],
   "metadata": {}
  },
  {
   "cell_type": "code",
   "execution_count": 907,
   "source": [
    "from sklearn import linear_model\r\n",
    "\r\n",
    "model = linear_model.LinearRegression(normalize=True)\r\n",
    "model.fit(X, y)\r\n",
    "y_pred = model.predict(X)\r\n",
    "\r\n",
    "print(y_pred[:5], \"\\n\", y[:5])"
   ],
   "outputs": [
    {
     "output_type": "stream",
     "name": "stdout",
     "text": [
      "[32.80994516 32.95790528 33.26116413 32.81575607 33.01913814] \n",
      " 1    15.99\n",
      "2    19.99\n",
      "3    10.99\n",
      "5    15.99\n",
      "7    24.99\n",
      "Name: combined_price, dtype: float64\n"
     ]
    }
   ],
   "metadata": {}
  },
  {
   "cell_type": "code",
   "execution_count": 908,
   "source": [
    "from sklearn import metrics\r\n",
    "\r\n",
    "metrics.mean_squared_error(y, y_pred)"
   ],
   "outputs": [
    {
     "output_type": "execute_result",
     "data": {
      "text/plain": [
       "458.85866445628596"
      ]
     },
     "metadata": {},
     "execution_count": 908
    }
   ],
   "metadata": {}
  },
  {
   "cell_type": "code",
   "execution_count": 848,
   "source": [
    "'''\r\n",
    "\r\n",
    "Completed:\r\n",
    "    'number_reviews', 'rating','combined_price', 'weight',dimentions',  'thickness'\r\n",
    "\r\n",
    "To explore NLP:\r\n",
    "    'reviews_text', \r\n",
    "\r\n",
    "To complete in branch other_prices_color\r\n",
    "     'other_prices', other_colors'\r\n",
    " '\r\n",
    "Still to complete in master and applying hot encoder:\r\n",
    "    'care', 'material', 'brand', 'color'\r\n",
    "'''"
   ],
   "outputs": [
    {
     "output_type": "execute_result",
     "data": {
      "text/plain": [
       "\"\\n\\nCompleted:\\n    'number_reviews', 'rating','combined_price', 'weight',dimentions',  'thickness'\\n\\nTo explore NLP:\\n    'reviews_text', \\n\\nTo complete in branch other_prices_color\\n     'other_prices', other_colors'\\n '\\nStill to complete in master and applying hot encoder:\\n    'care', 'material', 'brand', 'color'\\n\""
      ]
     },
     "metadata": {},
     "execution_count": 848
    }
   ],
   "metadata": {}
  },
  {
   "cell_type": "code",
   "execution_count": null,
   "source": [],
   "outputs": [],
   "metadata": {}
  },
  {
   "cell_type": "code",
   "execution_count": null,
   "source": [],
   "outputs": [],
   "metadata": {}
  },
  {
   "cell_type": "code",
   "execution_count": null,
   "source": [],
   "outputs": [],
   "metadata": {}
  }
 ],
 "metadata": {
  "orig_nbformat": 4,
  "language_info": {
   "name": "python",
   "version": "3.9.1",
   "mimetype": "text/x-python",
   "codemirror_mode": {
    "name": "ipython",
    "version": 3
   },
   "pygments_lexer": "ipython3",
   "nbconvert_exporter": "python",
   "file_extension": ".py"
  },
  "kernelspec": {
   "name": "python3",
   "display_name": "Python 3.9.1 64-bit ('base': conda)"
  },
  "interpreter": {
   "hash": "6e877474a2f69abf93ff0788bb4753f9804efe5540cac16b9fab56086c1aa61b"
  }
 },
 "nbformat": 4,
 "nbformat_minor": 2
}