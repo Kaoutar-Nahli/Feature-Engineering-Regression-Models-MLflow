{
 "cells": [
  {
   "cell_type": "code",
   "execution_count": 476,
   "source": [
    "#%%\r\n",
    "import pandas as pd\r\n",
    "import numpy as np\r\n",
    "import matplotlib.pyplot as plt\r\n",
    "import re\r\n",
    "import sklearn"
   ],
   "outputs": [],
   "metadata": {}
  },
  {
   "cell_type": "code",
   "execution_count": 477,
   "source": [
    "\r\n",
    "df = pd.read_csv('amazon_data_cleaned_01.csv')\r\n",
    "df.columns\r\n",
    "\r\n",
    "df.drop('Unnamed: 0', axis=1,inplace=True)\r\n",
    "df = df.replace('nan', np.nan, regex=True)\r\n",
    "df.drop(df[df.name==0].index, axis=0,inplace=True)\r\n",
    "#drop duplicated values\r\n",
    "df = df.drop_duplicates(['mat_url'])\r\n",
    "duplicates = df.duplicated(['mat_url','name'])\r\n",
    "print(duplicates.sum(), df.shape)\r\n",
    "df[duplicates][['mat_url','combined_price', 'name']]\r\n"
   ],
   "outputs": [
    {
     "output_type": "stream",
     "name": "stdout",
     "text": [
      "0 (1082, 16)\n"
     ]
    },
    {
     "output_type": "execute_result",
     "data": {
      "text/plain": [
       "Empty DataFrame\n",
       "Columns: [mat_url, combined_price, name]\n",
       "Index: []"
      ],
      "text/html": [
       "<div>\n",
       "<style scoped>\n",
       "    .dataframe tbody tr th:only-of-type {\n",
       "        vertical-align: middle;\n",
       "    }\n",
       "\n",
       "    .dataframe tbody tr th {\n",
       "        vertical-align: top;\n",
       "    }\n",
       "\n",
       "    .dataframe thead th {\n",
       "        text-align: right;\n",
       "    }\n",
       "</style>\n",
       "<table border=\"1\" class=\"dataframe\">\n",
       "  <thead>\n",
       "    <tr style=\"text-align: right;\">\n",
       "      <th></th>\n",
       "      <th>mat_url</th>\n",
       "      <th>combined_price</th>\n",
       "      <th>name</th>\n",
       "    </tr>\n",
       "  </thead>\n",
       "  <tbody>\n",
       "  </tbody>\n",
       "</table>\n",
       "</div>"
      ]
     },
     "metadata": {},
     "execution_count": 477
    }
   ],
   "metadata": {}
  },
  {
   "cell_type": "code",
   "execution_count": 478,
   "source": [
    "\r\n",
    "print(df.shape)\r\n",
    "df[duplicates][['mat_url','combined_price', 'name']]"
   ],
   "outputs": [
    {
     "output_type": "stream",
     "name": "stdout",
     "text": [
      "(1082, 16)\n"
     ]
    },
    {
     "output_type": "execute_result",
     "data": {
      "text/plain": [
       "Empty DataFrame\n",
       "Columns: [mat_url, combined_price, name]\n",
       "Index: []"
      ],
      "text/html": [
       "<div>\n",
       "<style scoped>\n",
       "    .dataframe tbody tr th:only-of-type {\n",
       "        vertical-align: middle;\n",
       "    }\n",
       "\n",
       "    .dataframe tbody tr th {\n",
       "        vertical-align: top;\n",
       "    }\n",
       "\n",
       "    .dataframe thead th {\n",
       "        text-align: right;\n",
       "    }\n",
       "</style>\n",
       "<table border=\"1\" class=\"dataframe\">\n",
       "  <thead>\n",
       "    <tr style=\"text-align: right;\">\n",
       "      <th></th>\n",
       "      <th>mat_url</th>\n",
       "      <th>combined_price</th>\n",
       "      <th>name</th>\n",
       "    </tr>\n",
       "  </thead>\n",
       "  <tbody>\n",
       "  </tbody>\n",
       "</table>\n",
       "</div>"
      ]
     },
     "metadata": {},
     "execution_count": 478
    }
   ],
   "metadata": {}
  },
  {
   "cell_type": "code",
   "execution_count": 479,
   "source": [
    "#Cleaning number of reviews\r\n",
    "\r\n",
    "df = df.replace(np.nan, 0, regex=True)\r\n",
    "pd.set_option('display.max_colwidth', 30)\r\n",
    "df['number_reviews'] = df['number_reviews'].str.replace('ratings','')\r\n",
    "df['number_reviews'] = df['number_reviews'].str.replace('Nan','0')\r\n",
    "df['number_reviews'] = df['number_reviews'].str.replace(',','')\r\n",
    "df['number_reviews'] = df['number_reviews'].str.replace('rating','').astype('int')\r\n"
   ],
   "outputs": [],
   "metadata": {}
  },
  {
   "cell_type": "code",
   "execution_count": 480,
   "source": [
    "#cleaning rating out of 5\r\n",
    "df['rating'] = df['rating'].str.replace('out of 5','').astype('float')"
   ],
   "outputs": [],
   "metadata": {}
  },
  {
   "cell_type": "code",
   "execution_count": 481,
   "source": [
    "#cleaning weight and its dimentions ['pounds', nan, 'ounces', 'grams', 'kilograms']\r\n",
    "#divide weight into float and dimention\r\n",
    "df = df.replace(0,np.nan, regex=True)\r\n",
    "df['weight_float'] = df['weight'].apply(lambda x:  x if type(x)==float else x.split()[0]).astype(float)\r\n",
    "df['weight_dimention'] = df['weight'].apply(lambda x:  x if type(x)==float else x.split()[1]).str.lower()"
   ],
   "outputs": [],
   "metadata": {}
  },
  {
   "cell_type": "code",
   "execution_count": 482,
   "source": [
    "class dimention_convertion_weight():\r\n",
    "    '''\r\n",
    "     pounds' 'ounces', 'grams' to 'kilograms'\r\n",
    "    '''\r\n",
    "    def __init__(self,value_float, dimention) :\r\n",
    "        self.value = value_float\r\n",
    "        self.dimention = dimention\r\n",
    "        \r\n",
    "    def convert (self):\r\n",
    "        if self.dimention ==  'pounds':\r\n",
    "            self.from_pound_to_kg() \r\n",
    "            return self.value\r\n",
    "        elif self.dimention ==  'ounces':\r\n",
    "            self.from_ounces_kg()\r\n",
    "            return self.value\r\n",
    "        elif self.dimention == 'grams':\r\n",
    "            self.from_grams_to_kg()\r\n",
    "            return self.value\r\n",
    "        elif self.dimention == 'kilograms':\r\n",
    "            return self.value\r\n",
    "\r\n",
    "    def from_pound_to_kg( self):\r\n",
    "       \r\n",
    "           self.value =  self.value / 2.20462\r\n",
    "       \r\n",
    "    def from_ounces_kg(self):\r\n",
    "       \r\n",
    "            self.value =  self.value / 35.247\r\n",
    "        \r\n",
    "    def from_grams_to_kg(self):\r\n",
    "        \r\n",
    "           self.value =  self.value / 1000"
   ],
   "outputs": [],
   "metadata": {}
  },
  {
   "cell_type": "markdown",
   "source": [
    "Apply convertion_dimention_weight class, 24 mats have less than 0.3kg"
   ],
   "metadata": {}
  },
  {
   "cell_type": "code",
   "execution_count": 483,
   "source": [
    "df['weight_kg'] = df.apply(lambda row: dimention_convertion_weight(row.weight_float ,row.weight_dimention).convert(), axis=1)\r\n",
    "\r\n",
    "weight_less_than =df['weight_kg'] [df['weight_kg'] < 0.5]\r\n",
    "b = weight_less_than > 0\r\n",
    "print(b.sum())\r\n",
    "weight_less_than.unique()\r\n"
   ],
   "outputs": [
    {
     "output_type": "stream",
     "name": "stdout",
     "text": [
      "41\n"
     ]
    },
    {
     "output_type": "execute_result",
     "data": {
      "text/plain": [
       "array([0.45359291, 0.11339823, 0.26      , 0.002     , 0.08164672,\n",
       "       0.34045451, 0.15875752, 0.0905    , 0.10432637, 0.29937132,\n",
       "       0.2494761 , 0.49      , 0.18015718, 0.18143716, 0.34019468,\n",
       "       0.18      , 0.27215575, 0.06241666, 0.4       , 0.18157574,\n",
       "       0.3       , 0.2       , 0.00907186, 0.40823362, 0.00453593,\n",
       "       0.28087497])"
      ]
     },
     "metadata": {},
     "execution_count": 483
    }
   ],
   "metadata": {}
  },
  {
   "cell_type": "code",
   "execution_count": 484,
   "source": [
    "pd.set_option('display.max_colwidth', None)\r\n",
    "#df[df['weight_kg'] < 0.5][b][['mat_url','weight_kg','weight_float','weight_dimention']]\r\n",
    "#delete 697 and all where L is below 30 inches and W below 10"
   ],
   "outputs": [],
   "metadata": {}
  },
  {
   "cell_type": "code",
   "execution_count": 485,
   "source": [
    "df.drop(['weight_float','weight_dimention','weight','table_features_color_care_material'], axis=1, inplace=True)"
   ],
   "outputs": [],
   "metadata": {}
  },
  {
   "cell_type": "code",
   "execution_count": 486,
   "source": [
    "df.shape"
   ],
   "outputs": [
    {
     "output_type": "execute_result",
     "data": {
      "text/plain": [
       "(1082, 15)"
      ]
     },
     "metadata": {},
     "execution_count": 486
    }
   ],
   "metadata": {}
  },
  {
   "cell_type": "markdown",
   "source": [
    "Converting dimentions and thickness in three rows: L X W X thickness_two"
   ],
   "metadata": {}
  },
  {
   "cell_type": "code",
   "execution_count": 487,
   "source": [
    "#L\r\n",
    "df['dimentions'] = df['dimentions'].str.strip().str.lower()\r\n",
    "df['L'] = df['dimentions'].apply(lambda x:  x if type(x)==float else x.split('x',1)[0]).astype(float)\r\n"
   ],
   "outputs": [],
   "metadata": {}
  },
  {
   "cell_type": "code",
   "execution_count": 488,
   "source": [
    "#W\r\n",
    "df['W'] = df['dimentions'].apply(lambda x:  x if type(x)==float else x.split('x',1)[1]).str.strip()\r\n",
    "df['W'] = df['W'].apply(lambda x:  x if type(x)==float else x.split(' ',1)[0]).astype(float)\r\n"
   ],
   "outputs": [],
   "metadata": {}
  },
  {
   "cell_type": "code",
   "execution_count": 489,
   "source": [
    "#thickness\r\n",
    "#filter from W forward\r\n",
    "df['thickness_2'] = df['dimentions'].apply(lambda x:  x if type(x)==float else x.split('x',1)[1]).str.strip()\r\n",
    "#filter from thickness forward\r\n",
    "df['thickness_2'] = df['thickness_2'].apply(lambda x:  x if type(x)==float else x.split(' ',1)[1]).str.strip()\r\n",
    "#filter only thickness\r\n",
    "regex_thickness = re.compile(r'[\\d+\\.]+[\\d*]')\r\n",
    "df['thickness_2']= df['thickness_2'].apply(lambda x:  x if type(x)==float else re.findall(regex_thickness,x))\r\n",
    "df['thickness_2'] = df['thickness_2'].apply(lambda y: np.nan  if y==[] else float(str(y).replace(\"['\",'').replace(\"']\",'')))\r\n",
    "df['thickness_2'][df['thickness_2'].notnull()]\r\n",
    "#dimention\r\n",
    "#filter only text\r\n",
    "regex_dimention = re.compile(r'[a-z]+')\r\n",
    "df['dimention_LXW']= df['dimentions'].apply(lambda x:  x if type(x)==float else re.findall(regex_dimention,x))\r\n",
    "df['dimention_LXW'] = df['dimention_LXW'].apply(lambda y: np.nan  if y==[]  else str(y))\r\n",
    "df['dimention_LXW'].unique()\r\n",
    "#all is in inches / but is mm for the thickness"
   ],
   "outputs": [
    {
     "output_type": "execute_result",
     "data": {
      "text/plain": [
       "array([\"['x', 'inches']\", 'nan', \"['x', 'x', 'inchesitem']\",\n",
       "       \"['x', 'x', 'inches']\", \"['x', 'inchesitem']\"], dtype=object)"
      ]
     },
     "metadata": {},
     "execution_count": 489
    }
   ],
   "metadata": {}
  },
  {
   "cell_type": "code",
   "execution_count": 490,
   "source": [
    "#df.isna().sum()"
   ],
   "outputs": [],
   "metadata": {}
  },
  {
   "cell_type": "code",
   "execution_count": 491,
   "source": [
    "#put max value as L and min value as thickness\r\n",
    "df = df.replace(np.nan, 0, regex=True)\r\n",
    "df['L'] = df[['W','L','thickness_2']].max(axis=1)\r\n",
    "df['thickness_2'] = df[['W','L','thickness_2']].min(axis=1)\r\n",
    "df['A'] = df[['W','thickness_2']].max(axis=1)\r\n",
    "df['B'] = df[['W','L']].min(axis=1)\r\n",
    "df['W'] = df[['A','B']].max(axis=1)\r\n"
   ],
   "outputs": [],
   "metadata": {}
  },
  {
   "cell_type": "markdown",
   "source": [
    "Half of  dimensions are nan and 1/5 of exixsting ones are not valid"
   ],
   "metadata": {}
  },
  {
   "cell_type": "code",
   "execution_count": 492,
   "source": [
    "df = df.replace(0,np.nan, regex=True)\r\n",
    "L_less_than_20 = df[df['L'] < 20][['weight_kg','L','W','thickness_2']]\r\n",
    "W_less_than_20 = df[df['W'] < 10][['weight_kg','L','W','thickness_2']]\r\n",
    "W_less_than_20.shape "
   ],
   "outputs": [
    {
     "output_type": "execute_result",
     "data": {
      "text/plain": [
       "(114, 4)"
      ]
     },
     "metadata": {},
     "execution_count": 492
    }
   ],
   "metadata": {}
  },
  {
   "cell_type": "code",
   "execution_count": 493,
   "source": [
    "df['thickness']=df['thickness'].str.strip()\r\n",
    "df['thickness_float'] = df['thickness'].apply(lambda x:  x if type(x)==float else x.split()[0]).astype(float)\r\n",
    "df['thickness_dim']= df['thickness'].apply(lambda x:  x if type(x)==float else x.split()[1]).str.lower().str.replace('item','').str.replace('league','')\r\n",
    "print(df['thickness_dim'].unique())"
   ],
   "outputs": [
    {
     "output_type": "stream",
     "name": "stdout",
     "text": [
      "['micron' nan 'millimeters' 'inches' 'centimeters' 'mils' 'feet']\n"
     ]
    }
   ],
   "metadata": {}
  },
  {
   "cell_type": "code",
   "execution_count": 494,
   "source": [
    "class dimention_convertion_thickness():\r\n",
    "    '''\r\n",
    "     'feet', 'micron' 'centimeters', 'inches' to 'milimeters'\r\n",
    "    '''\r\n",
    "    def __init__(self,value_float, dimention) :\r\n",
    "        self.value = value_float\r\n",
    "        self.dimention = dimention\r\n",
    "        \r\n",
    "    def convert (self):\r\n",
    "        if self.dimention == 'feet':\r\n",
    "            self.from_feet_to_mm() \r\n",
    "            return self.value\r\n",
    "        elif self.dimention ==  'micron':\r\n",
    "             self.from_micron_to_mm()\r\n",
    "             return self.value\r\n",
    "        elif self.dimention == 'centimeters':\r\n",
    "            self.from_cm_to_mm()\r\n",
    "            return self.value\r\n",
    "        elif self.dimention == 'inches':\r\n",
    "            self.from_inches_to_mm()\r\n",
    "            return self.value\r\n",
    "        elif self.dimention == 'millimeters':\r\n",
    "            return self.value\r\n",
    "        elif self.dimention == 'mils':\r\n",
    "            return self.value  \r\n",
    "        elif self.value == 'nan':\r\n",
    "            return np.nan   \r\n",
    "        else:\r\n",
    "            return(np.nan)  \r\n",
    "\r\n",
    "    def from_feet_to_mm( self):\r\n",
    "       \r\n",
    "           self.value =  self.value * 304.8\r\n",
    "       \r\n",
    "    def from_micron_to_mm(self):\r\n",
    "       \r\n",
    "             self.value =  self.value / 1000\r\n",
    "        \r\n",
    "    def from_cm_to_mm(self):\r\n",
    "        \r\n",
    "           self.value =  self.value * 10\r\n",
    "\r\n",
    "    def from_inches_to_mm(self):\r\n",
    "        \r\n",
    "           self.value =  self.value * 25.4\r\n",
    "\r\n",
    "\r\n",
    "          \r\n",
    "#thickness from second source is in differnt dimentions will convert all to mm in column thickness_mm\r\n",
    "#apply convertion_dimention class\r\n",
    "df['thickness_mm'] = df.apply(lambda row: dimention_convertion_thickness(row.thickness_float ,row.thickness_dim).convert(), axis=1)\r\n",
    "df['thickness_mm'].unique()"
   ],
   "outputs": [
    {
     "output_type": "execute_result",
     "data": {
      "text/plain": [
       "array([6.0000e-03,        nan, 6.0000e+00, 1.0000e+01, 6.3500e+00,\n",
       "       4.5000e+00, 7.6200e+00, 8.0000e+00, 5.0000e+00, 2.0000e+00,\n",
       "       7.0000e+00, 3.3020e+00, 6.0960e+00, 1.5240e+02, 1.2700e+01,\n",
       "       5.0800e+00, 3.5560e+00, 4.7000e+00, 4.0000e+00, 1.5000e+00,\n",
       "       1.5000e+01, 7.8740e+00, 1.5748e+01, 2.5400e+01, 3.0000e+00,\n",
       "       1.0000e+00, 9.6520e+00, 4.0640e+00, 5.5000e+00, 6.0000e+01,\n",
       "       5.5880e+00, 4.3180e+00, 1.5240e+00, 7.3152e+01, 1.3000e+00,\n",
       "       2.0320e+00, 5.0800e+01, 9.9060e+00, 2.8956e+01, 4.3000e+00])"
      ]
     },
     "metadata": {},
     "execution_count": 494
    }
   ],
   "metadata": {}
  },
  {
   "cell_type": "code",
   "execution_count": 495,
   "source": [
    "df.drop(['thickness','thickness_float','thickness_dim'], axis=1, inplace=True)"
   ],
   "outputs": [],
   "metadata": {}
  },
  {
   "cell_type": "code",
   "execution_count": 496,
   "source": [
    "#thickness_2 from inches to mm\r\n",
    "df['thickness_2'] =df['thickness_2'].apply(lambda x: dimention_convertion_thickness(x ,'inches').convert())\r\n",
    "#%%\r\n",
    "#comparing  thickness_2 from table features and thickness_mm\r\n",
    "plt.plot(df['thickness_2'], label ='2')\r\n",
    "plt.plot(df['thickness_mm'])\r\n",
    "plt.legend()\r\n",
    "mask_1 = df['thickness_2'] > 0\r\n",
    "mask_2 = df['thickness_mm'] > 0\r\n",
    "mask_3 = df['thickness_2'] > 15 \r\n",
    "mask_4 = df['thickness_mm'] > 15\r\n",
    "len(df['thickness_mm'][mask_1][mask_2][mask_4]), len(df['thickness_2'][mask_1][mask_2][mask_3])\r\n",
    "# about 3 mats has a width higher than 20mm (14, 29)"
   ],
   "outputs": [
    {
     "output_type": "execute_result",
     "data": {
      "text/plain": [
       "(4, 30)"
      ]
     },
     "metadata": {},
     "execution_count": 496
    },
    {
     "output_type": "display_data",
     "data": {
      "text/plain": [
       "<Figure size 432x288 with 1 Axes>"
      ],
      "image/png": "[encoded data removed]"
     },
     "metadata": {
      "needs_background": "light"
     }
    }
   ],
   "metadata": {}
  },
  {
   "cell_type": "code",
   "execution_count": 497,
   "source": [
    "mask_1 = df['thickness_2'] > 0\r\n",
    "mask_2 = df['thickness_mm'] > 0\r\n",
    "mask_3 = df['thickness_2'] < 3 \r\n",
    "mask_4 = df['thickness_mm'] < 3\r\n",
    "len(df['thickness_mm'][mask_1][mask_2][mask_4]), len(df['thickness_2'][mask_1][mask_2][mask_3])\r\n",
    "# about 10  mats have a width less than 3mm (14, 29)"
   ],
   "outputs": [
    {
     "output_type": "execute_result",
     "data": {
      "text/plain": [
       "(15, 10)"
      ]
     },
     "metadata": {},
     "execution_count": 497
    }
   ],
   "metadata": {}
  },
  {
   "cell_type": "markdown",
   "source": [
    "Comparing thickness from the two sources and 262 out of 265 have less thann 2mm difference: "
   ],
   "metadata": {}
  },
  {
   "cell_type": "code",
   "execution_count": 498,
   "source": [
    "\r\n",
    "#%%\r\n",
    "thickness_1 = df['thickness_mm'][mask_1][mask_2]\r\n",
    "thickness_2 = df['thickness_2'][mask_1][mask_2]\r\n",
    "mask_for_difference_less_than_2mm = (thickness_1-thickness_2) < 2\r\n",
    "mask_for_difference_more_than_2mm = (thickness_1-thickness_2) > 2\r\n",
    "#%%\r\n",
    "data = [\r\n",
    "    ['difference less than 2',mask_for_difference_less_than_2mm.sum()],\r\n",
    "    ['difference more than 2',mask_for_difference_more_than_2mm.sum()],\r\n",
    "    ['len thickness_2', len(thickness_2)],\r\n",
    "    ['len thickness_1',len(thickness_1)],\r\n",
    "    ['len data', len(df['thickness_mm'])],\r\n",
    "    ['nulls thickness 1',df['thickness_mm'].isna().sum()],\r\n",
    "    ['nulls thickness 2',df['thickness_2'].isna().sum()]\r\n",
    "]\r\n",
    "df_data = pd.DataFrame(data, columns = ['Name', 'Value'])\r\n",
    "df_data\r\n",
    "#thickness_2 and thickness_mm are the 265 \r\n",
    "\r\n"
   ],
   "outputs": [
    {
     "output_type": "execute_result",
     "data": {
      "text/plain": [
       "                     Name  Value\n",
       "0  difference less than 2    261\n",
       "1  difference more than 2      3\n",
       "2         len thickness_2    264\n",
       "3         len thickness_1    264\n",
       "4                len data   1082\n",
       "5       nulls thickness 1    699\n",
       "6       nulls thickness 2    609"
      ],
      "text/html": [
       "<div>\n",
       "<style scoped>\n",
       "    .dataframe tbody tr th:only-of-type {\n",
       "        vertical-align: middle;\n",
       "    }\n",
       "\n",
       "    .dataframe tbody tr th {\n",
       "        vertical-align: top;\n",
       "    }\n",
       "\n",
       "    .dataframe thead th {\n",
       "        text-align: right;\n",
       "    }\n",
       "</style>\n",
       "<table border=\"1\" class=\"dataframe\">\n",
       "  <thead>\n",
       "    <tr style=\"text-align: right;\">\n",
       "      <th></th>\n",
       "      <th>Name</th>\n",
       "      <th>Value</th>\n",
       "    </tr>\n",
       "  </thead>\n",
       "  <tbody>\n",
       "    <tr>\n",
       "      <th>0</th>\n",
       "      <td>difference less than 2</td>\n",
       "      <td>261</td>\n",
       "    </tr>\n",
       "    <tr>\n",
       "      <th>1</th>\n",
       "      <td>difference more than 2</td>\n",
       "      <td>3</td>\n",
       "    </tr>\n",
       "    <tr>\n",
       "      <th>2</th>\n",
       "      <td>len thickness_2</td>\n",
       "      <td>264</td>\n",
       "    </tr>\n",
       "    <tr>\n",
       "      <th>3</th>\n",
       "      <td>len thickness_1</td>\n",
       "      <td>264</td>\n",
       "    </tr>\n",
       "    <tr>\n",
       "      <th>4</th>\n",
       "      <td>len data</td>\n",
       "      <td>1082</td>\n",
       "    </tr>\n",
       "    <tr>\n",
       "      <th>5</th>\n",
       "      <td>nulls thickness 1</td>\n",
       "      <td>699</td>\n",
       "    </tr>\n",
       "    <tr>\n",
       "      <th>6</th>\n",
       "      <td>nulls thickness 2</td>\n",
       "      <td>609</td>\n",
       "    </tr>\n",
       "  </tbody>\n",
       "</table>\n",
       "</div>"
      ]
     },
     "metadata": {},
     "execution_count": 498
    }
   ],
   "metadata": {}
  },
  {
   "cell_type": "markdown",
   "source": [
    "Combining thickness from different sources in one column "
   ],
   "metadata": {}
  },
  {
   "cell_type": "code",
   "execution_count": 499,
   "source": [
    "df = df.replace(np.nan,0, regex=True)\r\n",
    "df['final_thickness'] = df['thickness_mm']\r\n",
    "print(df['final_thickness'].isna().sum())\r\n",
    "#df['final_thickness'] = df['final_thickness'].apply(lambda x:400 if x==0 else x )\r\n",
    "df['final_thickness'] = df.apply(lambda row: row.thickness_2 if row.thickness_mm==0 else row.thickness_mm, axis=1)\r\n",
    "df = df.replace(0,np.nan ,regex=True)\r\n",
    "print(df['final_thickness'].isnull().sum())\r\n",
    "\r\n",
    "#df['final_thickness'].unique()"
   ],
   "outputs": [
    {
     "output_type": "stream",
     "name": "stdout",
     "text": [
      "0\n",
      "490\n"
     ]
    }
   ],
   "metadata": {}
  },
  {
   "cell_type": "markdown",
   "source": [
    "Dropping rows with the wrong thickness"
   ],
   "metadata": {}
  },
  {
   "cell_type": "code",
   "execution_count": 500,
   "source": [
    "df = df.drop(df[df.final_thickness < 3].index)\r\n",
    "df = df.drop(df[df.final_thickness >20].index)\r\n",
    "df.dropna().shape, df.shape"
   ],
   "outputs": [
    {
     "output_type": "execute_result",
     "data": {
      "text/plain": [
       "((62, 22), (973, 22))"
      ]
     },
     "metadata": {},
     "execution_count": 500
    }
   ],
   "metadata": {}
  },
  {
   "cell_type": "code",
   "execution_count": 501,
   "source": [
    "\r\n",
    "df.drop(['A','B','dimention_LXW','thickness_2','name','thickness_mm'], axis=1, inplace=True)\r\n",
    "df.isna().sum()"
   ],
   "outputs": [
    {
     "output_type": "execute_result",
     "data": {
      "text/plain": [
       "mat_url              1\n",
       "number_reviews      82\n",
       "rating              83\n",
       "reviews_text        28\n",
       "other_prices         0\n",
       "other_colors         0\n",
       "combined_price     182\n",
       "dimentions         492\n",
       "care               587\n",
       "material           275\n",
       "brand              172\n",
       "color              165\n",
       "weight_kg          581\n",
       "L                  492\n",
       "W                  492\n",
       "final_thickness    490\n",
       "dtype: int64"
      ]
     },
     "metadata": {},
     "execution_count": 501
    }
   ],
   "metadata": {}
  },
  {
   "cell_type": "code",
   "execution_count": 502,
   "source": [
    "df.columns"
   ],
   "outputs": [
    {
     "output_type": "execute_result",
     "data": {
      "text/plain": [
       "Index(['mat_url', 'number_reviews', 'rating', 'reviews_text', 'other_prices',\n",
       "       'other_colors', 'combined_price', 'dimentions', 'care', 'material',\n",
       "       'brand', 'color', 'weight_kg', 'L', 'W', 'final_thickness'],\n",
       "      dtype='object')"
      ]
     },
     "metadata": {},
     "execution_count": 502
    }
   ],
   "metadata": {}
  },
  {
   "cell_type": "code",
   "execution_count": 503,
   "source": [
    "df['material'].unique()"
   ],
   "outputs": [
    {
     "output_type": "execute_result",
     "data": {
      "text/plain": [
       "array([nan, ' Thermoplastic Elastomer', ' FoamProduct ',\n",
       "       ' Nitrile Butadiene Rubber', ' Plastic',\n",
       "       ' TPE Double LayerProduct ', ' Natural Rubber and SuedeProduct ',\n",
       "       ' Polyvinyl Chloride FoamProduct ', ' TpeProduct ',\n",
       "       ' RubberProduct ', ' Tpe', ' Thermoplastic ElastomersProduct ',\n",
       "       ' Nitrile Butadiene Rubber FoamProduct ', ' PlasticItem ', ' Cork',\n",
       "       ' TPE', ' Aluminum', ' Foam', ' Composite', ' 麂皮Product ',\n",
       "       ' Thermoplastic Elastomers', ' CorkProduct ',\n",
       "       ' Polyvinyl ChlorideProduct ', ' Suede',\n",
       "       ' Durable Eco-friendly TPEProduct ',\n",
       "       ' Oak tree bark & natural rubberProduct ',\n",
       "       ' Polyvinyl ChlorideItem ', ' OtherProduct ',\n",
       "       ' Nitrile Butadiene Rubber Foam', ' PVCProduct ',\n",
       "       ' Thermoplastic ElastomersItem ', ' PlasticProduct ',\n",
       "       ' SuedeProduct ', ' PolyesterProduct ', ' TPEProduct ', ' Rubber',\n",
       "       ' CottonItem ', ' JuteProduct ', ' Abs',\n",
       "       ' Eco Friendly Cork and Natural RubberProduct ', ' TPERProduct ',\n",
       "       ' Rubber, SuedeItem ', ' Cork & rubberItem ', ' Polyurethane',\n",
       "       ' Thermoplastic ElastomerProduct ', ' Polyvinyl Chloride',\n",
       "       ' Thermoplastic Elastomers, Rubber', ' Cork,rubberProduct ',\n",
       "       ' Tpe, WoolProduct ', ' PolyurethaneProduct ',\n",
       "       ' Thermoplastic Elastomers, Polyurethane', ' Other',\n",
       "       ' Polyethylene FoamProduct ', ' OtherItem ', ' Cotton',\n",
       "       'Eco Micro-foam construction with two sided layers at solid on… See moreProduct ',\n",
       "       ' Vinyl, Memory Foam, Polyvinyl Chloride', ' Cork, Rubber',\n",
       "       ' Foam, Nitrile Butadiene Rubber', ' Natural RubberProduct ',\n",
       "       ' Nbr', ' PVC', ' Memory FoamProduct ',\n",
       "       ' 100-Percent-Premium-Cork Top Layer, Water Resistant Rubber Buffer Mid-layer, Non-slip Rubber BaseProduct ',\n",
       "       ' PER', ' Cork, Natural RubberProduct ', ' HempProduct ',\n",
       "       ' Closed Cell FoamProduct ', ' Cork, RubberProduct ',\n",
       "       ' Ethylene Vinyl AcetateProduct ', ' PERProduct ',\n",
       "       ' Fitness Exercise Mat', ' 100-percent-tree-rubber', ' Resin',\n",
       "       ' Metal', ' Environmental PVC', ' PVC FoamProduct ',\n",
       "       ' 天然橡胶Product ', ' Thermoplastic Elastomers, Suede, Rubber',\n",
       "       ' Nitrile, Nbr', ' Blend', ' 100% Handwoven CottonProduct ',\n",
       "       ' Wood', ' Phthalate free foam', ' 橡胶Product ',\n",
       "       ' 97% Recycled Neoprene',\n",
       "       ' Top Layer: Micro-Foam; Bottom Layer: Grooved, Matrix-Circled TextureProduct ',\n",
       "       ' EVAItem ',\n",
       "       ' Microfibre Suede top and organic Rubber backProduct ',\n",
       "       ' Premium Cork from Spain and Quality Rubber from Malaysia',\n",
       "       ' TpeItem ', ' Eco-friendly PVC', ' RubberItem ',\n",
       "       ' MicrofiberProduct ', ' Ethylene Vinyl Acetate', ' Polyester',\n",
       "       ' CottonProduct ', ' Polyurethane, RubberProduct ',\n",
       "       ' Suede & Natural Rubber BackProduct ', ' EVA',\n",
       "       ' Gurus Earth MatItem ', ' Microfiber', ' NeopreneItem ',\n",
       "       ' Faux Leather, Polyethylene Foam',\n",
       "       ' Nitrile Butadiene RubberProduct ', ' XPEProduct ', ' Flannel',\n",
       "       ' 100 % Pure CottonProduct ', ' Polyvinyl Chloride Foam',\n",
       "       ' FoamItem ', ' TPEItem ', ' Rubber, SuedeProduct ',\n",
       "       ' Polyester, TpeItem ', ' POE', ' Nbr foam', ' 聚氯乙烯Product ',\n",
       "       ' Rubber with cottonProduct ', ' Neoprene',\n",
       "       ' High Quality Vegan Organic Eco-Friendly Natural Suede Rubber',\n",
       "       ' FabricBrand GenericShape Rectangular', ' Memory Foam'],\n",
       "      dtype=object)"
      ]
     },
     "metadata": {},
     "execution_count": 503
    }
   ],
   "metadata": {}
  },
  {
   "cell_type": "code",
   "execution_count": 504,
   "source": [
    "df = df.replace(np.nan,'nan', regex=True)\r\n",
    "df[df.material == 'nan'].index"
   ],
   "outputs": [
    {
     "output_type": "execute_result",
     "data": {
      "text/plain": [
       "Int64Index([   1,    3,    9,   13,   17,   23,   25,   27,   30,   31,\n",
       "            ...\n",
       "            1058, 1063, 1067, 1070, 1071, 1072, 1075, 1076, 1082, 1085],\n",
       "           dtype='int64', length=275)"
      ]
     },
     "metadata": {},
     "execution_count": 504
    }
   ],
   "metadata": {}
  },
  {
   "cell_type": "code",
   "execution_count": 521,
   "source": [
    "to_remove =['metal','aluminum','gurus earth mat','fabricbrand genericshape rectangular']\r\n",
    "df = df.drop(df[df.material == np.nan].index)\r\n",
    "for i in to_remove:\r\n",
    "    df.drop(df[df.material == i].index, inplace=True)\r\n",
    "df['material'] = df['material'].str.replace('Product','').str.replace('Item', '').str.replace('麂皮','polyester').str.strip().str.lower()\r\n",
    "df['material'] = df['material'].str.replace('thermoplastic elastomers','tpe').str.replace('聚氯乙烯','pvc')\r\n",
    "df['material'] = df['material'].str.replace('thermoplastic elastomer','tpe')\r\n",
    "df['material'] = df['material'].str.replace('plastic','tpe')\r\n",
    "df['material'] = df['material'].str.replace('other','nan')\r\n",
    "df['material'] = df['material'].str.replace('天然橡胶','natural rubber').str.replace('橡胶','rubber')\r\n",
    "df['material'] = df['material'].str.replace('polyvinyl chloride','pvc')\r\n",
    "df['material'] = df['material'].str.replace('vinyl, memory foam, pvc','pvc')\r\n",
    "df['material'] = df['material'].str.replace('vinyl','pvc')\r\n",
    "df['material'] = df['material'].str.replace('nitrile butadiene rubber','nbr')\r\n",
    "df['material'] = df['material'].str.replace('nitrile, nbr','nbr')\r\n",
    "df['material'] = df['material'].str.replace('polyester, tpe','polyester')\r\n",
    "df['material'] = df['material'].str.replace('fitness exercise mat','nan')\r\n",
    "df['material'] = df['material'].str.replace('nbr imported from germany','nbr')\r\n",
    "df['material'] = df['material'].str.replace('nbr foam','nbr') \r\n",
    "df['material'] = df['material'].str.replace('pvc foam','pvc')\r\n",
    "df['material'] = df['material'].str.replace('foam, nbr','nbr')                                                   \r\n",
    "df['material'] = df['material'].str.replace('tpe, rubber','tpe')                                                                  \r\n",
    "df['material'] = df['material'].str.replace('rubber, polyester','rubber')                                                            \r\n",
    "df['material'] = df['material'].str.replace('tpe, rubber','tpe')  \r\n",
    "df['material'] = df['material'].str.replace('kapok','wood')                                                               \r\n",
    "df['material'] = df['material'].str.replace('recycled wetsuits','neoprene') \r\n",
    "df['material'] = df['material'].str.replace('polyurethane'  ,'pu')  \r\n",
    "df['material'] = df['material'].str.replace('hemp'  ,'cotton')  \r\n",
    "df['material'] = df['material'].str.replace('abs'  ,'tpe')   \r\n",
    "df['material'] = df['material'].str.replace('xpe'  ,'foam') \r\n",
    "df['material'] = df['material'].str.replace('poe'  ,'tpe')                               \r\n",
    "df['material'] = df['material'].str.replace('eva'  ,'tpe')\r\n",
    "df['material'] = df['material'].str.replace('blend'  ,'tpe')\r\n",
    "df['material'] = df['material'].str.replace('resin'  ,'tpe')\r\n",
    "df['material'] = df['material'].str.replace('flannel'  ,'cotton') \r\n",
    "df['material'] = df['material'].str.replace('microfiber'  ,'neoprene') \r\n",
    "#r'flannel',r'resin',r'eva',r'blend',r'composite'\r\n",
    "\r\n",
    "for i in [r\"microfiber\",r\"suede\",r\"cotton\",r\"cork\",r\"rubber\",r\"polyester\",r\"neoprene\", r\"pvc\", r'pu',r'jute', r\"foam\",r\"per\",r\"tpe\"]:\r\n",
    "            df['material'] [df['material'].str.contains(i)] = i\r\n",
    "\r\n",
    "#pd.options.display.max_rows = 4000\r\n",
    "#pd.set_option('display.max_colwidth', None)\r\n",
    "\r\n",
    "print(df['material'].value_counts())\r\n",
    "\r\n"
   ],
   "outputs": [
    {
     "output_type": "stream",
     "name": "stdout",
     "text": [
      "tpe          321\n",
      "nbr           49\n",
      "rubber        45\n",
      "pvc           40\n",
      "foam          25\n",
      "cork          24\n",
      "polyester     12\n",
      "cotton        12\n",
      "per           10\n",
      "suede          9\n",
      "pu             6\n",
      "jute           5\n",
      "neoprene       5\n",
      "Name: material, dtype: int64\n"
     ]
    },
    {
     "output_type": "stream",
     "name": "stderr",
     "text": [
      "<ipython-input-521-641bfb534995>:40: SettingWithCopyWarning: \n",
      "A value is trying to be set on a copy of a slice from a DataFrame\n",
      "\n",
      "See the caveats in the documentation: https://pandas.pydata.org/pandas-docs/stable/user_guide/indexing.html#returning-a-view-versus-a-copy\n",
      "  df['material'] [df['material'].str.contains(i)] = i\n"
     ]
    }
   ],
   "metadata": {}
  },
  {
   "cell_type": "code",
   "execution_count": 522,
   "source": [
    "for i in ['composite']:\r\n",
    "    print(df[df.material==i]['combined_price'])\r\n"
   ],
   "outputs": [
    {
     "output_type": "stream",
     "name": "stdout",
     "text": [
      "Series([], Name: combined_price, dtype: float64)\n"
     ]
    }
   ],
   "metadata": {}
  },
  {
   "cell_type": "markdown",
   "source": [
    "Materials:\r\n",
    "\r\n",
    "-Jute is a long, soft, shiny bast fiber that can be spun into coarse, strong threads\r\n",
    "\r\n",
    "-tpe : termoplastic elastomer\r\n",
    "\r\n",
    "-Polyolefin elastomers (POE) are elastomers based on a polyethylene backbone\r\n",
    "\r\n",
    "-Polyurethane (often abbreviated PUR and PU) is a polymer composed of organic units joined by carbamate (urethane) links\r\n",
    "\r\n",
    "-Polyurethane , Polyurethane is pu\r\n",
    "\r\n",
    "-EVA stands for Ethylene-Vinyl Acetate. That is an elastomeric polymer that produces materials which are \"rubber-like\" in softness and flexibility. It is a plastic made by combining ethylene and vinyl acetate to create rubber like properties which can be used for shoe soles\r\n",
    "\r\n",
    "-Flannel is a soft woven fabric, of various fineness. Flannel was originally made from carded wool or worsted yarn, but is now often made from either wool, cotton, or synthetic fiber."
   ],
   "metadata": {}
  },
  {
   "cell_type": "code",
   "execution_count": 523,
   "source": [
    "df = df.replace(np.nan,0, regex=True)\r\n",
    "df = df.replace('nan',0, regex=True)\r\n",
    "df = df.drop(df[df.material == 0].index)\r\n",
    "df = df.drop(df[df.combined_price == 0].index)\r\n",
    "df.material = df.material.astype(\"category\")\r\n",
    "df.shape"
   ],
   "outputs": [
    {
     "output_type": "execute_result",
     "data": {
      "text/plain": [
       "(563, 16)"
      ]
     },
     "metadata": {},
     "execution_count": 523
    }
   ],
   "metadata": {}
  },
  {
   "cell_type": "markdown",
   "source": [
    "Model 'rating','number_reviews' and 'combined_price' as target"
   ],
   "metadata": {}
  },
  {
   "cell_type": "code",
   "execution_count": 524,
   "source": [
    "df_rating_reviews = df[['rating','number_reviews','combined_price']]\r\n",
    "print( df_rating_reviews.dropna().shape , df_rating_reviews.shape)"
   ],
   "outputs": [
    {
     "output_type": "stream",
     "name": "stdout",
     "text": [
      "(563, 3) (563, 3)\n"
     ]
    }
   ],
   "metadata": {}
  },
  {
   "cell_type": "code",
   "execution_count": 525,
   "source": [
    "df_rating_reviews = df_rating_reviews.dropna()\r\n",
    "df_rating_reviews.isna().sum()\r\n"
   ],
   "outputs": [
    {
     "output_type": "execute_result",
     "data": {
      "text/plain": [
       "rating            0\n",
       "number_reviews    0\n",
       "combined_price    0\n",
       "dtype: int64"
      ]
     },
     "metadata": {},
     "execution_count": 525
    }
   ],
   "metadata": {}
  },
  {
   "cell_type": "code",
   "execution_count": 526,
   "source": [
    "df_rating_reviews.describe()"
   ],
   "outputs": [
    {
     "output_type": "execute_result",
     "data": {
      "text/plain": [
       "           rating  number_reviews  combined_price\n",
       "count  563.000000      563.000000      563.000000\n",
       "mean     4.288632      711.293073       33.212647\n",
       "std      1.125115     1828.634081       20.760307\n",
       "min      0.000000        0.000000        6.490000\n",
       "25%      4.500000       13.000000       22.990000\n",
       "50%      4.600000       74.000000       27.990000\n",
       "75%      4.700000      308.000000       36.525000\n",
       "max      5.000000    22045.000000      287.860000"
      ],
      "text/html": [
       "<div>\n",
       "<style scoped>\n",
       "    .dataframe tbody tr th:only-of-type {\n",
       "        vertical-align: middle;\n",
       "    }\n",
       "\n",
       "    .dataframe tbody tr th {\n",
       "        vertical-align: top;\n",
       "    }\n",
       "\n",
       "    .dataframe thead th {\n",
       "        text-align: right;\n",
       "    }\n",
       "</style>\n",
       "<table border=\"1\" class=\"dataframe\">\n",
       "  <thead>\n",
       "    <tr style=\"text-align: right;\">\n",
       "      <th></th>\n",
       "      <th>rating</th>\n",
       "      <th>number_reviews</th>\n",
       "      <th>combined_price</th>\n",
       "    </tr>\n",
       "  </thead>\n",
       "  <tbody>\n",
       "    <tr>\n",
       "      <th>count</th>\n",
       "      <td>563.000000</td>\n",
       "      <td>563.000000</td>\n",
       "      <td>563.000000</td>\n",
       "    </tr>\n",
       "    <tr>\n",
       "      <th>mean</th>\n",
       "      <td>4.288632</td>\n",
       "      <td>711.293073</td>\n",
       "      <td>33.212647</td>\n",
       "    </tr>\n",
       "    <tr>\n",
       "      <th>std</th>\n",
       "      <td>1.125115</td>\n",
       "      <td>1828.634081</td>\n",
       "      <td>20.760307</td>\n",
       "    </tr>\n",
       "    <tr>\n",
       "      <th>min</th>\n",
       "      <td>0.000000</td>\n",
       "      <td>0.000000</td>\n",
       "      <td>6.490000</td>\n",
       "    </tr>\n",
       "    <tr>\n",
       "      <th>25%</th>\n",
       "      <td>4.500000</td>\n",
       "      <td>13.000000</td>\n",
       "      <td>22.990000</td>\n",
       "    </tr>\n",
       "    <tr>\n",
       "      <th>50%</th>\n",
       "      <td>4.600000</td>\n",
       "      <td>74.000000</td>\n",
       "      <td>27.990000</td>\n",
       "    </tr>\n",
       "    <tr>\n",
       "      <th>75%</th>\n",
       "      <td>4.700000</td>\n",
       "      <td>308.000000</td>\n",
       "      <td>36.525000</td>\n",
       "    </tr>\n",
       "    <tr>\n",
       "      <th>max</th>\n",
       "      <td>5.000000</td>\n",
       "      <td>22045.000000</td>\n",
       "      <td>287.860000</td>\n",
       "    </tr>\n",
       "  </tbody>\n",
       "</table>\n",
       "</div>"
      ]
     },
     "metadata": {},
     "execution_count": 526
    }
   ],
   "metadata": {}
  },
  {
   "cell_type": "code",
   "execution_count": 527,
   "source": [
    "from sklearn import datasets, model_selection\r\n",
    "# 15% for validation and test, 70% for train in total\r\n",
    "y = df_rating_reviews['combined_price']\r\n",
    "X =df_rating_reviews[['rating','number_reviews']]\r\n",
    "X_train, X_test, y_train, y_test = model_selection.train_test_split(X,y, test_size=0.3)\r\n",
    "\r\n",
    "X_validation, X_test, y_validation, y_test = model_selection.train_test_split(\r\n",
    "    X_test, y_test, test_size=0.5\r\n",
    ")\r\n",
    "\r\n",
    "print(X_train.shape, y_train.shape)"
   ],
   "outputs": [
    {
     "output_type": "stream",
     "name": "stdout",
     "text": [
      "(394, 2) (394,)\n"
     ]
    }
   ],
   "metadata": {}
  },
  {
   "cell_type": "code",
   "execution_count": 528,
   "source": [
    "from sklearn import linear_model\r\n",
    "model = linear_model.LinearRegression(normalize=True)\r\n",
    "model.fit(X_train, y_train)\r\n",
    "y_pred = model.predict(X_train)\r\n",
    "print(y_pred[:5], \"\\n\", y_train[:5])\r\n"
   ],
   "outputs": [
    {
     "output_type": "stream",
     "name": "stdout",
     "text": [
      "[16.74446759 32.33651921 32.16033219 31.10871323 32.35634669] \n",
      " 108    21.16\n",
      "67     18.99\n",
      "78     25.99\n",
      "618    26.97\n",
      "974    35.99\n",
      "Name: combined_price, dtype: float64\n"
     ]
    }
   ],
   "metadata": {}
  },
  {
   "cell_type": "code",
   "execution_count": 529,
   "source": [
    "from sklearn import metrics\r\n",
    "\r\n",
    "metrics.mean_squared_error(y_train, y_pred)"
   ],
   "outputs": [
    {
     "output_type": "execute_result",
     "data": {
      "text/plain": [
       "278.92365305970003"
      ]
     },
     "metadata": {},
     "execution_count": 529
    }
   ],
   "metadata": {}
  },
  {
   "cell_type": "markdown",
   "source": [
    "Model with material added "
   ],
   "metadata": {}
  },
  {
   "cell_type": "code",
   "execution_count": 530,
   "source": [
    "df_rating_reviews_material = df[['rating','number_reviews','material','combined_price']]\r\n",
    "df_rating_reviews_material.info()"
   ],
   "outputs": [
    {
     "output_type": "stream",
     "name": "stdout",
     "text": [
      "<class 'pandas.core.frame.DataFrame'>\n",
      "Int64Index: 563 entries, 2 to 1083\n",
      "Data columns (total 4 columns):\n",
      " #   Column          Non-Null Count  Dtype   \n",
      "---  ------          --------------  -----   \n",
      " 0   rating          563 non-null    float64 \n",
      " 1   number_reviews  563 non-null    float64 \n",
      " 2   material        563 non-null    category\n",
      " 3   combined_price  563 non-null    float64 \n",
      "dtypes: category(1), float64(3)\n",
      "memory usage: 35.0 KB\n"
     ]
    }
   ],
   "metadata": {}
  },
  {
   "cell_type": "code",
   "execution_count": 531,
   "source": [
    "df_rating_reviews_material = df_rating_reviews_material.dropna()"
   ],
   "outputs": [],
   "metadata": {}
  },
  {
   "cell_type": "code",
   "execution_count": 532,
   "source": [
    "dummies = pd.get_dummies(df_rating_reviews_material['material'], prefix='material')\r\n",
    "df_rating_reviews_material = pd.concat((df_rating_reviews_material, dummies), axis=1).drop('material', axis=1)\r\n",
    "print(df_rating_reviews_material.shape)\r\n",
    "df_rating_reviews_material.columns"
   ],
   "outputs": [
    {
     "output_type": "stream",
     "name": "stdout",
     "text": [
      "(563, 16)\n"
     ]
    },
    {
     "output_type": "execute_result",
     "data": {
      "text/plain": [
       "Index(['rating', 'number_reviews', 'combined_price', 'material_cork',\n",
       "       'material_cotton', 'material_foam', 'material_jute', 'material_nbr',\n",
       "       'material_neoprene', 'material_per', 'material_polyester',\n",
       "       'material_pu', 'material_pvc', 'material_rubber', 'material_suede',\n",
       "       'material_tpe'],\n",
       "      dtype='object')"
      ]
     },
     "metadata": {},
     "execution_count": 532
    }
   ],
   "metadata": {}
  },
  {
   "cell_type": "code",
   "execution_count": 544,
   "source": [
    "y = df_rating_reviews_material['combined_price']\r\n",
    "X =df_rating_reviews_material[['rating', 'number_reviews', 'material_cork',\r\n",
    "       'material_cotton', 'material_foam', 'material_jute', 'material_nbr',\r\n",
    "       'material_neoprene', 'material_per', 'material_polyester',\r\n",
    "       'material_pu', 'material_pvc', 'material_rubber', 'material_suede',\r\n",
    "       'material_tpe']]\r\n",
    "X.shape\r\n"
   ],
   "outputs": [
    {
     "output_type": "execute_result",
     "data": {
      "text/plain": [
       "(563, 15)"
      ]
     },
     "metadata": {},
     "execution_count": 544
    }
   ],
   "metadata": {}
  },
  {
   "cell_type": "code",
   "execution_count": 545,
   "source": [
    "X_train, X_test, y_train, y_test = model_selection.train_test_split(X,y, test_size=0.3, stratify= X[['material_cork',\r\n",
    "       'material_cotton', 'material_foam', 'material_jute', 'material_nbr',\r\n",
    "       'material_neoprene', 'material_per', 'material_polyester',\r\n",
    "       'material_pu', 'material_pvc', 'material_rubber', 'material_suede',\r\n",
    "       'material_tpe']])\r\n",
    "\r\n",
    "X_validation, X_test, y_validation, y_test = model_selection.train_test_split(\r\n",
    "    X_test, y_test, test_size=0.5\r\n",
    ")\r\n",
    "X_train.shape"
   ],
   "outputs": [
    {
     "output_type": "execute_result",
     "data": {
      "text/plain": [
       "(394, 15)"
      ]
     },
     "metadata": {},
     "execution_count": 545
    }
   ],
   "metadata": {}
  },
  {
   "cell_type": "code",
   "execution_count": 546,
   "source": [
    "model = linear_model.LinearRegression(normalize=True)\r\n",
    "model.fit(X_train, y_train)\r\n",
    "y_pred = model.predict(X_train)\r\n",
    "print(y_pred[:5], \"\\n\", y[:5])\r\n"
   ],
   "outputs": [
    {
     "output_type": "stream",
     "name": "stdout",
     "text": [
      "[22.10494625 29.65239288 20.19829069 29.8135602  29.03155769] \n",
      " 2     19.99\n",
      "5     15.99\n",
      "7     24.99\n",
      "8     23.99\n",
      "10    32.99\n",
      "Name: combined_price, dtype: float64\n"
     ]
    }
   ],
   "metadata": {}
  },
  {
   "cell_type": "code",
   "execution_count": 547,
   "source": [
    "y_val_pred = model.predict(X_validation)\r\n",
    "metrics.mean_squared_error(y_train, y_pred), metrics.mean_squared_error(y_validation, y_val_pred)\r\n",
    "sklearn.metrics.r2_score(y_train, y_pred), sklearn.metrics.r2_score(y_validation, y_val_pred)"
   ],
   "outputs": [
    {
     "output_type": "execute_result",
     "data": {
      "text/plain": [
       "(0.24141817327220194, 0.20881927477248374)"
      ]
     },
     "metadata": {},
     "execution_count": 547
    }
   ],
   "metadata": {}
  },
  {
   "cell_type": "markdown",
   "source": [
    "Apply one-hot encoding to material"
   ],
   "metadata": {}
  },
  {
   "cell_type": "code",
   "execution_count": 433,
   "source": [
    "'''\r\n",
    "\r\n",
    "Completed:\r\n",
    "    'number_reviews', 'rating','combined_price', 'weight',dimentions',  'thickness', 'material'\r\n",
    "\r\n",
    "To explore NLP:\r\n",
    "    'reviews_text', \r\n",
    "\r\n",
    "To complete in branch other_prices_color\r\n",
    "     'other_prices', other_colors'\r\n",
    " '\r\n",
    "Still to complete in master and applying hot encoder:\r\n",
    "    'care',  'brand', 'color'\r\n",
    "    similar percentage of each class in validation and test\r\n",
    "    bins for width an input 5mm for np.nan values\r\n",
    "'''\r\n"
   ],
   "outputs": [
    {
     "output_type": "execute_result",
     "data": {
      "text/plain": [
       "\"\\n\\nCompleted:\\n    'number_reviews', 'rating','combined_price', 'weight',dimentions',  'thickness', 'material'\\n\\nTo explore NLP:\\n    'reviews_text', \\n\\nTo complete in branch other_prices_color\\n     'other_prices', other_colors'\\n '\\nStill to complete in master and applying hot encoder:\\n    'care',  'brand', 'color'\\n    similar percentage of each class in validation and test\\n    bins for width an input 5mm for np.nan values\\n\""
      ]
     },
     "metadata": {},
     "execution_count": 433
    }
   ],
   "metadata": {}
  },
  {
   "cell_type": "code",
   "execution_count": null,
   "source": [],
   "outputs": [],
   "metadata": {}
  },
  {
   "cell_type": "code",
   "execution_count": null,
   "source": [],
   "outputs": [],
   "metadata": {}
  },
  {
   "cell_type": "code",
   "execution_count": null,
   "source": [],
   "outputs": [],
   "metadata": {}
  }
 ],
 "metadata": {
  "orig_nbformat": 4,
  "language_info": {
   "name": "python",
   "version": "3.9.1",
   "mimetype": "text/x-python",
   "codemirror_mode": {
    "name": "ipython",
    "version": 3
   },
   "pygments_lexer": "ipython3",
   "nbconvert_exporter": "python",
   "file_extension": ".py"
  },
  "kernelspec": {
   "name": "python3",
   "display_name": "Python 3.9.1 64-bit ('base': conda)"
  },
  "interpreter": {
   "hash": "6e877474a2f69abf93ff0788bb4753f9804efe5540cac16b9fab56086c1aa61b"
  }
 },
 "nbformat": 4,
 "nbformat_minor": 2
}